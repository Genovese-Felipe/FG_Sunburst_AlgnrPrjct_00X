{
  "nbformat": 4,
  "nbformat_minor": 0,
  "metadata": {
    "colab": {
      "provenance": [],
      "toc_visible": true,
      "authorship_tag": "ABX9TyOJw/+0ldbeiNVH6vyn1uW9",
      "include_colab_link": true
    },
    "kernelspec": {
      "name": "python3",
      "display_name": "Python 3"
    },
    "language_info": {
      "name": "python"
    }
  },
  "cells": [
    {
      "cell_type": "markdown",
      "metadata": {
        "id": "view-in-github",
        "colab_type": "text"
      },
      "source": [
        "<a href=\"https://colab.research.google.com/github/Genovese-Felipe/FG_Sunburst_AlgnrPrjct_00X/blob/main/FG_Sunburst_AlgnrPrjct.ipynb\" target=\"_parent\"><img src=\"https://colab.research.google.com/assets/colab-badge.svg\" alt=\"Open In Colab\"/></a>"
      ]
    },
    {
      "cell_type": "code",
      "source": [],
      "metadata": {
        "id": "iq50WZEunNcm"
      },
      "execution_count": 17,
      "outputs": []
    },
    {
      "cell_type": "code",
      "execution_count": 18,
      "metadata": {
        "id": "wQ9FnJck9Csl"
      },
      "outputs": [],
      "source": [
        "# Cole este código em uma célula para manter ativo:\n",
        "import time\n",
        "from IPython.display import clear_output\n",
        "\n",
        "def keep_alive():\n",
        "    while True:\n",
        "        time.sleep(300)  # 5 minutos\n",
        "        clear_output()\n",
        "        print(\"🟢 Mantendo sessão ativa...\")\n",
        "\n",
        "# Execute em background (opcional)\n",
        "# keep_alive()"
      ]
    },
    {
      "cell_type": "markdown",
      "source": [
        "# GUIA MESTRE DEFINITIVO (VERSÃO GOOGLE COLAB): Projeto Sunburst de Elite\n",
        "🎯 Objetivo Final: Aprovação com Excelência\n",
        "Criaremos um impressionante gráfico Sunburst interativo, inteiramente dentro de um único notebook do Google Colab. Este método simplifica a configuração e garante que qualquer pessoa possa executar seu código sem problemas."
      ],
      "metadata": {
        "id": "ZYH3gIw8lOrQ"
      }
    },
    {
      "cell_type": "markdown",
      "source": [
        "## FASE 0 e 1: Configuração do Ambiente Colab (Seu \"Canteiro de Obras\" na Nuvem)\n",
        "No Colab, a preparação é muito mais rápida.\n",
        "Acesse o Google Colab: Vá para colab.research.google.com.\n",
        "Crie um Novo Notebook: Clique em Arquivo -> Novo notebook.\n",
        "Renomeie seu Notebook: Clique no nome do arquivo no canto superior esquerdo (provavelmente Untitled.ipynb) e renomeie para algo profissional, como Alignerr_Sunburst_Project.ipynb."
      ],
      "metadata": {
        "id": "DNSPUMtXlHX0"
      }
    },
    {
      "cell_type": "markdown",
      "source": [
        "## FASE 2: Escopo e Prompt\n",
        "A história e o objetivo permanecem os mesmos, pois são de alta qualidade.\n",
        "História de Negócio: Analisar a estrutura de custos de um portfólio de projetos de construção (Residential, Commercial, Infrastructure).\n",
        "Prompt (em Inglês): Guarde este prompt para a submissão final."
      ],
      "metadata": {
        "id": "d7aPUjBmlalm"
      }
    },
    {
      "cell_type": "markdown",
      "source": [
        "\"Create a highly interactive, multi-level sunburst chart to analyze the cost structure across our entire construction project portfolio. The visualization must allow for a hierarchical exploration from project type down to specific cost components. The chart should be designed for executive presentation, emphasizing clarity, professional aesthetics, and intuitive drill-down capabilities.\""
      ],
      "metadata": {
        "id": "-8aNa4Suk7ju"
      }
    },
    {
      "cell_type": "markdown",
      "source": [
        "##FASE 3 e 4 (Combinadas): Código Completo para Colab\n",
        "Esta é a parte principal. Vamos combinar a geração de dados e a criação do gráfico em células de código sequenciais dentro do seu notebook.\n",
        "SUA AÇÃO:\n",
        "Copie e cole cada bloco de código abaixo em uma célula separada do seu notebook do Google Colab e execute-as na ordem."
      ],
      "metadata": {
        "id": "bhNcuv4ClkGM"
      }
    },
    {
      "cell_type": "markdown",
      "source": [
        "Célula de Código 1: Instalação das Bibliotecas\n",
        "Esta é a primeira coisa a fazer. Garante que o ambiente Colab tenha as ferramentas certas."
      ],
      "metadata": {
        "id": "2Z55LWlYl4cX"
      }
    },
    {
      "cell_type": "code",
      "execution_count": 19,
      "metadata": {
        "colab": {
          "base_uri": "https://localhost:8080/",
          "height": 0
        },
        "id": "O0t63udTkYYT",
        "outputId": "1ea93d18-6fa7-44e5-b79f-9c6b8b597c3f"
      },
      "outputs": [
        {
          "output_type": "stream",
          "name": "stdout",
          "text": [
            "Requirement already satisfied: pandas in /usr/local/lib/python3.11/dist-packages (2.2.2)\n",
            "Requirement already satisfied: plotly in /usr/local/lib/python3.11/dist-packages (5.24.1)\n",
            "Requirement already satisfied: numpy>=1.23.2 in /usr/local/lib/python3.11/dist-packages (from pandas) (2.0.2)\n",
            "Requirement already satisfied: python-dateutil>=2.8.2 in /usr/local/lib/python3.11/dist-packages (from pandas) (2.9.0.post0)\n",
            "Requirement already satisfied: pytz>=2020.1 in /usr/local/lib/python3.11/dist-packages (from pandas) (2025.2)\n",
            "Requirement already satisfied: tzdata>=2022.7 in /usr/local/lib/python3.11/dist-packages (from pandas) (2025.2)\n",
            "Requirement already satisfied: tenacity>=6.2.0 in /usr/local/lib/python3.11/dist-packages (from plotly) (8.5.0)\n",
            "Requirement already satisfied: packaging in /usr/local/lib/python3.11/dist-packages (from plotly) (24.2)\n",
            "Requirement already satisfied: six>=1.5 in /usr/local/lib/python3.11/dist-packages (from python-dateutil>=2.8.2->pandas) (1.17.0)\n"
          ]
        }
      ],
      "source": [
        "# Step 1: Install necessary libraries\n",
        "# We only need pandas and plotly for this specific task in Colab.\n",
        "!pip install pandas plotly"
      ]
    },
    {
      "cell_type": "markdown",
      "source": [
        "Execute esta célula: Pressione Shift+Enter ou clique no ícone de \"play\" à esquerda."
      ],
      "metadata": {
        "id": "Q_E5iDF3lxnb"
      }
    },
    {
      "cell_type": "markdown",
      "source": [
        "Célula de Código 2: Geração dos Dados\n",
        "Este código cria os dados diretamente na memória do notebook, sem precisar salvar arquivos CSV."
      ],
      "metadata": {
        "id": "m7lHSZt3l9ii"
      }
    },
    {
      "cell_type": "code",
      "source": [
        "# Step 2: Generate the hierarchical data in memory\n",
        "\n",
        "import pandas as pd\n",
        "\n",
        "# Define the portfolio data structure\n",
        "data = [\n",
        "    # --- Residential Projects ---\n",
        "    {'project_type': 'Residential', 'cost_category': 'Materials', 'item': 'Concrete & Masonry', 'cost': 250000, 'risk': 'Low'},\n",
        "    {'project_type': 'Residential', 'cost_category': 'Materials', 'item': 'Lumber & Framing', 'cost': 180000, 'risk': 'Medium'},\n",
        "    {'project_type': 'Residential', 'cost_category': 'Labor', 'item': 'MEP (Elec/Plumb)', 'cost': 190000, 'risk': 'High'},\n",
        "\n",
        "    # --- Commercial Projects ---\n",
        "    {'project_type': 'Commercial', 'cost_category': 'Materials', 'item': 'Structural Steel', 'cost': 750000, 'risk': 'Medium'},\n",
        "    {'project_type': 'Commercial', 'cost_category': 'Labor', 'item': 'Project Management', 'cost': 300000, 'risk': 'Medium'},\n",
        "    {'project_type': 'Commercial', 'cost_category': 'Equipment', 'item': 'Crane & Lifts', 'cost': 250000, 'risk': 'Medium'},\n",
        "\n",
        "    # --- Infrastructure Projects ---\n",
        "    {'project_type': 'Infrastructure', 'cost_category': 'Materials', 'item': 'Asphalt & Paving', 'cost': 900000, 'risk': 'Low'},\n",
        "    {'project_type': 'Infrastructure', 'cost_category': 'Labor', 'item': 'Heavy Equipment Operators', 'cost': 700000, 'risk': 'Medium'},\n",
        "    {'project_type': 'Infrastructure', 'cost_category': 'Equipment', 'item': 'Pavers & Graders', 'cost': 550000, 'risk': 'Low'},\n",
        "]\n",
        "\n",
        "# Create a pandas DataFrame from the data\n",
        "df = pd.DataFrame(data)\n",
        "\n",
        "print(\"✅ Data generated and stored in DataFrame 'df'.\")\n",
        "df.head() # Display the first few rows to confirm"
      ],
      "metadata": {
        "colab": {
          "base_uri": "https://localhost:8080/",
          "height": 225
        },
        "id": "EPZ-tc6Jl_Lj",
        "outputId": "bda1a0fe-97fd-4e89-9f3a-6fbda2f34d82"
      },
      "execution_count": 20,
      "outputs": [
        {
          "output_type": "stream",
          "name": "stdout",
          "text": [
            "✅ Data generated and stored in DataFrame 'df'.\n"
          ]
        },
        {
          "output_type": "execute_result",
          "data": {
            "text/plain": [
              "  project_type cost_category                item    cost    risk\n",
              "0  Residential     Materials  Concrete & Masonry  250000     Low\n",
              "1  Residential     Materials    Lumber & Framing  180000  Medium\n",
              "2  Residential         Labor    MEP (Elec/Plumb)  190000    High\n",
              "3   Commercial     Materials    Structural Steel  750000  Medium\n",
              "4   Commercial         Labor  Project Management  300000  Medium"
            ],
            "text/html": [
              "\n",
              "  <div id=\"df-668842fc-52f0-4484-b761-9ded69a2d80e\" class=\"colab-df-container\">\n",
              "    <div>\n",
              "<style scoped>\n",
              "    .dataframe tbody tr th:only-of-type {\n",
              "        vertical-align: middle;\n",
              "    }\n",
              "\n",
              "    .dataframe tbody tr th {\n",
              "        vertical-align: top;\n",
              "    }\n",
              "\n",
              "    .dataframe thead th {\n",
              "        text-align: right;\n",
              "    }\n",
              "</style>\n",
              "<table border=\"1\" class=\"dataframe\">\n",
              "  <thead>\n",
              "    <tr style=\"text-align: right;\">\n",
              "      <th></th>\n",
              "      <th>project_type</th>\n",
              "      <th>cost_category</th>\n",
              "      <th>item</th>\n",
              "      <th>cost</th>\n",
              "      <th>risk</th>\n",
              "    </tr>\n",
              "  </thead>\n",
              "  <tbody>\n",
              "    <tr>\n",
              "      <th>0</th>\n",
              "      <td>Residential</td>\n",
              "      <td>Materials</td>\n",
              "      <td>Concrete &amp; Masonry</td>\n",
              "      <td>250000</td>\n",
              "      <td>Low</td>\n",
              "    </tr>\n",
              "    <tr>\n",
              "      <th>1</th>\n",
              "      <td>Residential</td>\n",
              "      <td>Materials</td>\n",
              "      <td>Lumber &amp; Framing</td>\n",
              "      <td>180000</td>\n",
              "      <td>Medium</td>\n",
              "    </tr>\n",
              "    <tr>\n",
              "      <th>2</th>\n",
              "      <td>Residential</td>\n",
              "      <td>Labor</td>\n",
              "      <td>MEP (Elec/Plumb)</td>\n",
              "      <td>190000</td>\n",
              "      <td>High</td>\n",
              "    </tr>\n",
              "    <tr>\n",
              "      <th>3</th>\n",
              "      <td>Commercial</td>\n",
              "      <td>Materials</td>\n",
              "      <td>Structural Steel</td>\n",
              "      <td>750000</td>\n",
              "      <td>Medium</td>\n",
              "    </tr>\n",
              "    <tr>\n",
              "      <th>4</th>\n",
              "      <td>Commercial</td>\n",
              "      <td>Labor</td>\n",
              "      <td>Project Management</td>\n",
              "      <td>300000</td>\n",
              "      <td>Medium</td>\n",
              "    </tr>\n",
              "  </tbody>\n",
              "</table>\n",
              "</div>\n",
              "    <div class=\"colab-df-buttons\">\n",
              "\n",
              "  <div class=\"colab-df-container\">\n",
              "    <button class=\"colab-df-convert\" onclick=\"convertToInteractive('df-668842fc-52f0-4484-b761-9ded69a2d80e')\"\n",
              "            title=\"Convert this dataframe to an interactive table.\"\n",
              "            style=\"display:none;\">\n",
              "\n",
              "  <svg xmlns=\"http://www.w3.org/2000/svg\" height=\"24px\" viewBox=\"0 -960 960 960\">\n",
              "    <path d=\"M120-120v-720h720v720H120Zm60-500h600v-160H180v160Zm220 220h160v-160H400v160Zm0 220h160v-160H400v160ZM180-400h160v-160H180v160Zm440 0h160v-160H620v160ZM180-180h160v-160H180v160Zm440 0h160v-160H620v160Z\"/>\n",
              "  </svg>\n",
              "    </button>\n",
              "\n",
              "  <style>\n",
              "    .colab-df-container {\n",
              "      display:flex;\n",
              "      gap: 12px;\n",
              "    }\n",
              "\n",
              "    .colab-df-convert {\n",
              "      background-color: #E8F0FE;\n",
              "      border: none;\n",
              "      border-radius: 50%;\n",
              "      cursor: pointer;\n",
              "      display: none;\n",
              "      fill: #1967D2;\n",
              "      height: 32px;\n",
              "      padding: 0 0 0 0;\n",
              "      width: 32px;\n",
              "    }\n",
              "\n",
              "    .colab-df-convert:hover {\n",
              "      background-color: #E2EBFA;\n",
              "      box-shadow: 0px 1px 2px rgba(60, 64, 67, 0.3), 0px 1px 3px 1px rgba(60, 64, 67, 0.15);\n",
              "      fill: #174EA6;\n",
              "    }\n",
              "\n",
              "    .colab-df-buttons div {\n",
              "      margin-bottom: 4px;\n",
              "    }\n",
              "\n",
              "    [theme=dark] .colab-df-convert {\n",
              "      background-color: #3B4455;\n",
              "      fill: #D2E3FC;\n",
              "    }\n",
              "\n",
              "    [theme=dark] .colab-df-convert:hover {\n",
              "      background-color: #434B5C;\n",
              "      box-shadow: 0px 1px 3px 1px rgba(0, 0, 0, 0.15);\n",
              "      filter: drop-shadow(0px 1px 2px rgba(0, 0, 0, 0.3));\n",
              "      fill: #FFFFFF;\n",
              "    }\n",
              "  </style>\n",
              "\n",
              "    <script>\n",
              "      const buttonEl =\n",
              "        document.querySelector('#df-668842fc-52f0-4484-b761-9ded69a2d80e button.colab-df-convert');\n",
              "      buttonEl.style.display =\n",
              "        google.colab.kernel.accessAllowed ? 'block' : 'none';\n",
              "\n",
              "      async function convertToInteractive(key) {\n",
              "        const element = document.querySelector('#df-668842fc-52f0-4484-b761-9ded69a2d80e');\n",
              "        const dataTable =\n",
              "          await google.colab.kernel.invokeFunction('convertToInteractive',\n",
              "                                                    [key], {});\n",
              "        if (!dataTable) return;\n",
              "\n",
              "        const docLinkHtml = 'Like what you see? Visit the ' +\n",
              "          '<a target=\"_blank\" href=https://colab.research.google.com/notebooks/data_table.ipynb>data table notebook</a>'\n",
              "          + ' to learn more about interactive tables.';\n",
              "        element.innerHTML = '';\n",
              "        dataTable['output_type'] = 'display_data';\n",
              "        await google.colab.output.renderOutput(dataTable, element);\n",
              "        const docLink = document.createElement('div');\n",
              "        docLink.innerHTML = docLinkHtml;\n",
              "        element.appendChild(docLink);\n",
              "      }\n",
              "    </script>\n",
              "  </div>\n",
              "\n",
              "\n",
              "    <div id=\"df-8d1faea5-2d51-407e-890e-b9eb9da08c60\">\n",
              "      <button class=\"colab-df-quickchart\" onclick=\"quickchart('df-8d1faea5-2d51-407e-890e-b9eb9da08c60')\"\n",
              "                title=\"Suggest charts\"\n",
              "                style=\"display:none;\">\n",
              "\n",
              "<svg xmlns=\"http://www.w3.org/2000/svg\" height=\"24px\"viewBox=\"0 0 24 24\"\n",
              "     width=\"24px\">\n",
              "    <g>\n",
              "        <path d=\"M19 3H5c-1.1 0-2 .9-2 2v14c0 1.1.9 2 2 2h14c1.1 0 2-.9 2-2V5c0-1.1-.9-2-2-2zM9 17H7v-7h2v7zm4 0h-2V7h2v10zm4 0h-2v-4h2v4z\"/>\n",
              "    </g>\n",
              "</svg>\n",
              "      </button>\n",
              "\n",
              "<style>\n",
              "  .colab-df-quickchart {\n",
              "      --bg-color: #E8F0FE;\n",
              "      --fill-color: #1967D2;\n",
              "      --hover-bg-color: #E2EBFA;\n",
              "      --hover-fill-color: #174EA6;\n",
              "      --disabled-fill-color: #AAA;\n",
              "      --disabled-bg-color: #DDD;\n",
              "  }\n",
              "\n",
              "  [theme=dark] .colab-df-quickchart {\n",
              "      --bg-color: #3B4455;\n",
              "      --fill-color: #D2E3FC;\n",
              "      --hover-bg-color: #434B5C;\n",
              "      --hover-fill-color: #FFFFFF;\n",
              "      --disabled-bg-color: #3B4455;\n",
              "      --disabled-fill-color: #666;\n",
              "  }\n",
              "\n",
              "  .colab-df-quickchart {\n",
              "    background-color: var(--bg-color);\n",
              "    border: none;\n",
              "    border-radius: 50%;\n",
              "    cursor: pointer;\n",
              "    display: none;\n",
              "    fill: var(--fill-color);\n",
              "    height: 32px;\n",
              "    padding: 0;\n",
              "    width: 32px;\n",
              "  }\n",
              "\n",
              "  .colab-df-quickchart:hover {\n",
              "    background-color: var(--hover-bg-color);\n",
              "    box-shadow: 0 1px 2px rgba(60, 64, 67, 0.3), 0 1px 3px 1px rgba(60, 64, 67, 0.15);\n",
              "    fill: var(--button-hover-fill-color);\n",
              "  }\n",
              "\n",
              "  .colab-df-quickchart-complete:disabled,\n",
              "  .colab-df-quickchart-complete:disabled:hover {\n",
              "    background-color: var(--disabled-bg-color);\n",
              "    fill: var(--disabled-fill-color);\n",
              "    box-shadow: none;\n",
              "  }\n",
              "\n",
              "  .colab-df-spinner {\n",
              "    border: 2px solid var(--fill-color);\n",
              "    border-color: transparent;\n",
              "    border-bottom-color: var(--fill-color);\n",
              "    animation:\n",
              "      spin 1s steps(1) infinite;\n",
              "  }\n",
              "\n",
              "  @keyframes spin {\n",
              "    0% {\n",
              "      border-color: transparent;\n",
              "      border-bottom-color: var(--fill-color);\n",
              "      border-left-color: var(--fill-color);\n",
              "    }\n",
              "    20% {\n",
              "      border-color: transparent;\n",
              "      border-left-color: var(--fill-color);\n",
              "      border-top-color: var(--fill-color);\n",
              "    }\n",
              "    30% {\n",
              "      border-color: transparent;\n",
              "      border-left-color: var(--fill-color);\n",
              "      border-top-color: var(--fill-color);\n",
              "      border-right-color: var(--fill-color);\n",
              "    }\n",
              "    40% {\n",
              "      border-color: transparent;\n",
              "      border-right-color: var(--fill-color);\n",
              "      border-top-color: var(--fill-color);\n",
              "    }\n",
              "    60% {\n",
              "      border-color: transparent;\n",
              "      border-right-color: var(--fill-color);\n",
              "    }\n",
              "    80% {\n",
              "      border-color: transparent;\n",
              "      border-right-color: var(--fill-color);\n",
              "      border-bottom-color: var(--fill-color);\n",
              "    }\n",
              "    90% {\n",
              "      border-color: transparent;\n",
              "      border-bottom-color: var(--fill-color);\n",
              "    }\n",
              "  }\n",
              "</style>\n",
              "\n",
              "      <script>\n",
              "        async function quickchart(key) {\n",
              "          const quickchartButtonEl =\n",
              "            document.querySelector('#' + key + ' button');\n",
              "          quickchartButtonEl.disabled = true;  // To prevent multiple clicks.\n",
              "          quickchartButtonEl.classList.add('colab-df-spinner');\n",
              "          try {\n",
              "            const charts = await google.colab.kernel.invokeFunction(\n",
              "                'suggestCharts', [key], {});\n",
              "          } catch (error) {\n",
              "            console.error('Error during call to suggestCharts:', error);\n",
              "          }\n",
              "          quickchartButtonEl.classList.remove('colab-df-spinner');\n",
              "          quickchartButtonEl.classList.add('colab-df-quickchart-complete');\n",
              "        }\n",
              "        (() => {\n",
              "          let quickchartButtonEl =\n",
              "            document.querySelector('#df-8d1faea5-2d51-407e-890e-b9eb9da08c60 button');\n",
              "          quickchartButtonEl.style.display =\n",
              "            google.colab.kernel.accessAllowed ? 'block' : 'none';\n",
              "        })();\n",
              "      </script>\n",
              "    </div>\n",
              "\n",
              "    </div>\n",
              "  </div>\n"
            ],
            "application/vnd.google.colaboratory.intrinsic+json": {
              "type": "dataframe",
              "variable_name": "df",
              "summary": "{\n  \"name\": \"df\",\n  \"rows\": 9,\n  \"fields\": [\n    {\n      \"column\": \"project_type\",\n      \"properties\": {\n        \"dtype\": \"category\",\n        \"num_unique_values\": 3,\n        \"samples\": [\n          \"Residential\",\n          \"Commercial\",\n          \"Infrastructure\"\n        ],\n        \"semantic_type\": \"\",\n        \"description\": \"\"\n      }\n    },\n    {\n      \"column\": \"cost_category\",\n      \"properties\": {\n        \"dtype\": \"category\",\n        \"num_unique_values\": 3,\n        \"samples\": [\n          \"Materials\",\n          \"Labor\",\n          \"Equipment\"\n        ],\n        \"semantic_type\": \"\",\n        \"description\": \"\"\n      }\n    },\n    {\n      \"column\": \"item\",\n      \"properties\": {\n        \"dtype\": \"string\",\n        \"num_unique_values\": 9,\n        \"samples\": [\n          \"Heavy Equipment Operators\",\n          \"Lumber & Framing\",\n          \"Crane & Lifts\"\n        ],\n        \"semantic_type\": \"\",\n        \"description\": \"\"\n      }\n    },\n    {\n      \"column\": \"cost\",\n      \"properties\": {\n        \"dtype\": \"number\",\n        \"std\": 275670,\n        \"min\": 180000,\n        \"max\": 900000,\n        \"num_unique_values\": 8,\n        \"samples\": [\n          180000,\n          900000,\n          250000\n        ],\n        \"semantic_type\": \"\",\n        \"description\": \"\"\n      }\n    },\n    {\n      \"column\": \"risk\",\n      \"properties\": {\n        \"dtype\": \"category\",\n        \"num_unique_values\": 3,\n        \"samples\": [\n          \"Low\",\n          \"Medium\",\n          \"High\"\n        ],\n        \"semantic_type\": \"\",\n        \"description\": \"\"\n      }\n    }\n  ]\n}"
            }
          },
          "metadata": {},
          "execution_count": 20
        }
      ]
    },
    {
      "cell_type": "code",
      "source": [],
      "metadata": {
        "id": "K8LTwOqJFghs"
      },
      "execution_count": null,
      "outputs": []
    },
    {
      "source": [
        "from google.colab import sheets\n",
        "sheet = sheets.InteractiveSheet(df=df)"
      ],
      "cell_type": "code",
      "execution_count": 21,
      "outputs": [
        {
          "output_type": "stream",
          "name": "stdout",
          "text": [
            "https://docs.google.com/spreadsheets/d/1MH-TrgVSyJ_mALjzN3CB9aWZpFASaomw6BlPAjID3GE/edit#gid=0\n"
          ]
        },
        {
          "output_type": "display_data",
          "data": {
            "text/plain": [
              "<IPython.lib.display.IFrame at 0x79f3ae677250>"
            ],
            "text/html": [
              "\n",
              "        <iframe\n",
              "            width=\"100%\"\n",
              "            height=\"600\"\n",
              "            src=\"https://docs.google.com/spreadsheets/d/1MH-TrgVSyJ_mALjzN3CB9aWZpFASaomw6BlPAjID3GE/edit?rm=embedded#gid=0\"\n",
              "            frameborder=\"0\"\n",
              "            allowfullscreen\n",
              "            \n",
              "        ></iframe>\n",
              "        "
            ]
          },
          "metadata": {}
        }
      ],
      "metadata": {
        "cellView": "form",
        "colab": {
          "base_uri": "https://localhost:8080/",
          "height": 639
        },
        "id": "K9p8Gko-n5PW",
        "outputId": "3f990f4d-49f8-4bdf-9b9d-e75e4bcbd876"
      }
    },
    {
      "cell_type": "code",
      "source": [],
      "metadata": {
        "id": "2H6FhPwDnag9"
      },
      "execution_count": 21,
      "outputs": []
    },
    {
      "cell_type": "markdown",
      "source": [
        "Execute esta célula. Você verá uma confirmação e uma pequena tabela com os dados.\n"
      ],
      "metadata": {
        "id": "yZyWpdjomDLF"
      }
    },
    {
      "cell_type": "markdown",
      "source": [
        "Célula de Código 3: Criação do Gráfico Sunburst Interativo\n",
        "Esta é a célula principal. Ela cria, estiliza e exibe o seu gráfico."
      ],
      "metadata": {
        "id": "F_OtzxVzmE2O"
      }
    },
    {
      "cell_type": "code",
      "source": [
        "# Step 3: Create and display the elite interactive sunburst chart\n",
        "\n",
        "import plotly.express as px\n",
        "\n",
        "# Check if the DataFrame 'df' exists before creating the chart\n",
        "if 'df' in locals():\n",
        "    # --- Build the Sunburst Chart ---\n",
        "    fig = px.sunburst(\n",
        "        df,\n",
        "        path=['project_type', 'cost_category', 'item'],\n",
        "        values='cost',\n",
        "        color='project_type',\n",
        "        color_discrete_map={\n",
        "            'Residential': 'rgba(31, 119, 180, 0.9)',\n",
        "            'Commercial': 'rgba(255, 127, 14, 0.9)',\n",
        "            'Infrastructure': 'rgba(44, 160, 44, 0.9)',\n",
        "            '(?)': 'rgba(200, 200, 200, 0.5)'\n",
        "        },\n",
        "        maxdepth=3,\n",
        "        custom_data=['cost', 'risk']\n",
        "    )\n",
        "\n",
        "    # --- Advanced Styling and Interactivity ---\n",
        "    fig.update_layout(\n",
        "        title_text=\"<b>Interactive Construction Portfolio Cost Explorer</b>\",\n",
        "        title_x=0.5,\n",
        "        font=dict(family=\"Arial, sans-serif\", size=14, color=\"#333\"),\n",
        "        margin=dict(t=80, l=40, r=40, b=40),\n",
        "        paper_bgcolor='white'\n",
        "    )\n",
        "\n",
        "    fig.update_traces(\n",
        "        hovertemplate=(\n",
        "            \"<b>%{label}</b><br><br>\"\n",
        "            \"Cost: $%{customdata[0]:,.0f}<br>\"\n",
        "            \"Risk Level: %{customdata[1]}<br>\"\n",
        "            \"Contribution to Parent: %{percentParent:.2%}\"\n",
        "            \"<extra></extra>\"\n",
        "        ),\n",
        "        textfont_size=12,\n",
        "        insidetextorientation='radial'\n",
        "    )\n",
        "\n",
        "    # Display the figure directly in the Colab output\n",
        "    fig.show()\n",
        "\n",
        "else:\n",
        "    print(\"❌ DataFrame 'df' not found. Please run the previous cell to generate data.\")"
      ],
      "metadata": {
        "colab": {
          "base_uri": "https://localhost:8080/",
          "height": 542
        },
        "id": "7KHG_9rimIlg",
        "outputId": "5be038e3-bb24-45df-d5f5-2b27db97a92f"
      },
      "execution_count": 22,
      "outputs": [
        {
          "output_type": "display_data",
          "data": {
            "text/html": [
              "<html>\n",
              "<head><meta charset=\"utf-8\" /></head>\n",
              "<body>\n",
              "    <div>            <script src=\"https://cdnjs.cloudflare.com/ajax/libs/mathjax/2.7.5/MathJax.js?config=TeX-AMS-MML_SVG\"></script><script type=\"text/javascript\">if (window.MathJax && window.MathJax.Hub && window.MathJax.Hub.Config) {window.MathJax.Hub.Config({SVG: {font: \"STIX-Web\"}});}</script>                <script type=\"text/javascript\">window.PlotlyConfig = {MathJaxConfig: 'local'};</script>\n",
              "        <script charset=\"utf-8\" src=\"https://cdn.plot.ly/plotly-2.35.2.min.js\"></script>                <div id=\"badf42ea-f118-4551-896d-50815f0eba10\" class=\"plotly-graph-div\" style=\"height:525px; width:100%;\"></div>            <script type=\"text/javascript\">                                    window.PLOTLYENV=window.PLOTLYENV || {};                                    if (document.getElementById(\"badf42ea-f118-4551-896d-50815f0eba10\")) {                    Plotly.newPlot(                        \"badf42ea-f118-4551-896d-50815f0eba10\",                        [{\"branchvalues\":\"total\",\"customdata\":[[700000,\"Medium\",\"Infrastructure\"],[180000,\"Medium\",\"Residential\"],[190000,\"High\",\"Residential\"],[550000,\"Low\",\"Infrastructure\"],[300000,\"Medium\",\"Commercial\"],[750000,\"Medium\",\"Commercial\"],[900000,\"Low\",\"Infrastructure\"],[250000,\"Low\",\"Residential\"],[250000,\"Medium\",\"Commercial\"],[250000,\"Medium\",\"Commercial\"],[550000,\"Low\",\"Infrastructure\"],[300000,\"Medium\",\"Commercial\"],[700000,\"Medium\",\"Infrastructure\"],[190000,\"High\",\"Residential\"],[750000,\"Medium\",\"Commercial\"],[900000,\"Low\",\"Infrastructure\"],[430000,\"(?)\",\"Residential\"],[1300000,\"Medium\",\"Commercial\"],[2150000,\"(?)\",\"Infrastructure\"],[620000,\"(?)\",\"Residential\"]],\"domain\":{\"x\":[0.0,1.0],\"y\":[0.0,1.0]},\"hovertemplate\":\"\\u003cb\\u003e%{label}\\u003c\\u002fb\\u003e\\u003cbr\\u003e\\u003cbr\\u003eCost: $%{customdata[0]:,.0f}\\u003cbr\\u003eRisk Level: %{customdata[1]}\\u003cbr\\u003eContribution to Parent: %{percentParent:.2%}\\u003cextra\\u003e\\u003c\\u002fextra\\u003e\",\"ids\":[\"Infrastructure\\u002fLabor\\u002fHeavy Equipment Operators\",\"Residential\\u002fMaterials\\u002fLumber & Framing\",\"Residential\\u002fLabor\\u002fMEP (Elec\\u002fPlumb)\",\"Infrastructure\\u002fEquipment\\u002fPavers & Graders\",\"Commercial\\u002fLabor\\u002fProject Management\",\"Commercial\\u002fMaterials\\u002fStructural Steel\",\"Infrastructure\\u002fMaterials\\u002fAsphalt & Paving\",\"Residential\\u002fMaterials\\u002fConcrete & Masonry\",\"Commercial\\u002fEquipment\\u002fCrane & Lifts\",\"Commercial\\u002fEquipment\",\"Infrastructure\\u002fEquipment\",\"Commercial\\u002fLabor\",\"Infrastructure\\u002fLabor\",\"Residential\\u002fLabor\",\"Commercial\\u002fMaterials\",\"Infrastructure\\u002fMaterials\",\"Residential\\u002fMaterials\",\"Commercial\",\"Infrastructure\",\"Residential\"],\"labels\":[\"Heavy Equipment Operators\",\"Lumber & Framing\",\"MEP (Elec\\u002fPlumb)\",\"Pavers & Graders\",\"Project Management\",\"Structural Steel\",\"Asphalt & Paving\",\"Concrete & Masonry\",\"Crane & Lifts\",\"Equipment\",\"Equipment\",\"Labor\",\"Labor\",\"Labor\",\"Materials\",\"Materials\",\"Materials\",\"Commercial\",\"Infrastructure\",\"Residential\"],\"marker\":{\"colors\":[\"rgba(44, 160, 44, 0.9)\",\"rgba(31, 119, 180, 0.9)\",\"rgba(31, 119, 180, 0.9)\",\"rgba(44, 160, 44, 0.9)\",\"rgba(255, 127, 14, 0.9)\",\"rgba(255, 127, 14, 0.9)\",\"rgba(44, 160, 44, 0.9)\",\"rgba(31, 119, 180, 0.9)\",\"rgba(255, 127, 14, 0.9)\",\"rgba(255, 127, 14, 0.9)\",\"rgba(44, 160, 44, 0.9)\",\"rgba(255, 127, 14, 0.9)\",\"rgba(44, 160, 44, 0.9)\",\"rgba(31, 119, 180, 0.9)\",\"rgba(255, 127, 14, 0.9)\",\"rgba(44, 160, 44, 0.9)\",\"rgba(31, 119, 180, 0.9)\",\"rgba(255, 127, 14, 0.9)\",\"rgba(44, 160, 44, 0.9)\",\"rgba(31, 119, 180, 0.9)\"]},\"maxdepth\":3,\"name\":\"\",\"parents\":[\"Infrastructure\\u002fLabor\",\"Residential\\u002fMaterials\",\"Residential\\u002fLabor\",\"Infrastructure\\u002fEquipment\",\"Commercial\\u002fLabor\",\"Commercial\\u002fMaterials\",\"Infrastructure\\u002fMaterials\",\"Residential\\u002fMaterials\",\"Commercial\\u002fEquipment\",\"Commercial\",\"Infrastructure\",\"Commercial\",\"Infrastructure\",\"Residential\",\"Commercial\",\"Infrastructure\",\"Residential\",\"\",\"\",\"\"],\"values\":[700000,180000,190000,550000,300000,750000,900000,250000,250000,250000,550000,300000,700000,190000,750000,900000,430000,1300000,2150000,620000],\"type\":\"sunburst\",\"textfont\":{\"size\":12},\"insidetextorientation\":\"radial\"}],                        {\"template\":{\"data\":{\"histogram2dcontour\":[{\"type\":\"histogram2dcontour\",\"colorbar\":{\"outlinewidth\":0,\"ticks\":\"\"},\"colorscale\":[[0.0,\"#0d0887\"],[0.1111111111111111,\"#46039f\"],[0.2222222222222222,\"#7201a8\"],[0.3333333333333333,\"#9c179e\"],[0.4444444444444444,\"#bd3786\"],[0.5555555555555556,\"#d8576b\"],[0.6666666666666666,\"#ed7953\"],[0.7777777777777778,\"#fb9f3a\"],[0.8888888888888888,\"#fdca26\"],[1.0,\"#f0f921\"]]}],\"choropleth\":[{\"type\":\"choropleth\",\"colorbar\":{\"outlinewidth\":0,\"ticks\":\"\"}}],\"histogram2d\":[{\"type\":\"histogram2d\",\"colorbar\":{\"outlinewidth\":0,\"ticks\":\"\"},\"colorscale\":[[0.0,\"#0d0887\"],[0.1111111111111111,\"#46039f\"],[0.2222222222222222,\"#7201a8\"],[0.3333333333333333,\"#9c179e\"],[0.4444444444444444,\"#bd3786\"],[0.5555555555555556,\"#d8576b\"],[0.6666666666666666,\"#ed7953\"],[0.7777777777777778,\"#fb9f3a\"],[0.8888888888888888,\"#fdca26\"],[1.0,\"#f0f921\"]]}],\"heatmap\":[{\"type\":\"heatmap\",\"colorbar\":{\"outlinewidth\":0,\"ticks\":\"\"},\"colorscale\":[[0.0,\"#0d0887\"],[0.1111111111111111,\"#46039f\"],[0.2222222222222222,\"#7201a8\"],[0.3333333333333333,\"#9c179e\"],[0.4444444444444444,\"#bd3786\"],[0.5555555555555556,\"#d8576b\"],[0.6666666666666666,\"#ed7953\"],[0.7777777777777778,\"#fb9f3a\"],[0.8888888888888888,\"#fdca26\"],[1.0,\"#f0f921\"]]}],\"heatmapgl\":[{\"type\":\"heatmapgl\",\"colorbar\":{\"outlinewidth\":0,\"ticks\":\"\"},\"colorscale\":[[0.0,\"#0d0887\"],[0.1111111111111111,\"#46039f\"],[0.2222222222222222,\"#7201a8\"],[0.3333333333333333,\"#9c179e\"],[0.4444444444444444,\"#bd3786\"],[0.5555555555555556,\"#d8576b\"],[0.6666666666666666,\"#ed7953\"],[0.7777777777777778,\"#fb9f3a\"],[0.8888888888888888,\"#fdca26\"],[1.0,\"#f0f921\"]]}],\"contourcarpet\":[{\"type\":\"contourcarpet\",\"colorbar\":{\"outlinewidth\":0,\"ticks\":\"\"}}],\"contour\":[{\"type\":\"contour\",\"colorbar\":{\"outlinewidth\":0,\"ticks\":\"\"},\"colorscale\":[[0.0,\"#0d0887\"],[0.1111111111111111,\"#46039f\"],[0.2222222222222222,\"#7201a8\"],[0.3333333333333333,\"#9c179e\"],[0.4444444444444444,\"#bd3786\"],[0.5555555555555556,\"#d8576b\"],[0.6666666666666666,\"#ed7953\"],[0.7777777777777778,\"#fb9f3a\"],[0.8888888888888888,\"#fdca26\"],[1.0,\"#f0f921\"]]}],\"surface\":[{\"type\":\"surface\",\"colorbar\":{\"outlinewidth\":0,\"ticks\":\"\"},\"colorscale\":[[0.0,\"#0d0887\"],[0.1111111111111111,\"#46039f\"],[0.2222222222222222,\"#7201a8\"],[0.3333333333333333,\"#9c179e\"],[0.4444444444444444,\"#bd3786\"],[0.5555555555555556,\"#d8576b\"],[0.6666666666666666,\"#ed7953\"],[0.7777777777777778,\"#fb9f3a\"],[0.8888888888888888,\"#fdca26\"],[1.0,\"#f0f921\"]]}],\"mesh3d\":[{\"type\":\"mesh3d\",\"colorbar\":{\"outlinewidth\":0,\"ticks\":\"\"}}],\"scatter\":[{\"fillpattern\":{\"fillmode\":\"overlay\",\"size\":10,\"solidity\":0.2},\"type\":\"scatter\"}],\"parcoords\":[{\"type\":\"parcoords\",\"line\":{\"colorbar\":{\"outlinewidth\":0,\"ticks\":\"\"}}}],\"scatterpolargl\":[{\"type\":\"scatterpolargl\",\"marker\":{\"colorbar\":{\"outlinewidth\":0,\"ticks\":\"\"}}}],\"bar\":[{\"error_x\":{\"color\":\"#2a3f5f\"},\"error_y\":{\"color\":\"#2a3f5f\"},\"marker\":{\"line\":{\"color\":\"#E5ECF6\",\"width\":0.5},\"pattern\":{\"fillmode\":\"overlay\",\"size\":10,\"solidity\":0.2}},\"type\":\"bar\"}],\"scattergeo\":[{\"type\":\"scattergeo\",\"marker\":{\"colorbar\":{\"outlinewidth\":0,\"ticks\":\"\"}}}],\"scatterpolar\":[{\"type\":\"scatterpolar\",\"marker\":{\"colorbar\":{\"outlinewidth\":0,\"ticks\":\"\"}}}],\"histogram\":[{\"marker\":{\"pattern\":{\"fillmode\":\"overlay\",\"size\":10,\"solidity\":0.2}},\"type\":\"histogram\"}],\"scattergl\":[{\"type\":\"scattergl\",\"marker\":{\"colorbar\":{\"outlinewidth\":0,\"ticks\":\"\"}}}],\"scatter3d\":[{\"type\":\"scatter3d\",\"line\":{\"colorbar\":{\"outlinewidth\":0,\"ticks\":\"\"}},\"marker\":{\"colorbar\":{\"outlinewidth\":0,\"ticks\":\"\"}}}],\"scattermapbox\":[{\"type\":\"scattermapbox\",\"marker\":{\"colorbar\":{\"outlinewidth\":0,\"ticks\":\"\"}}}],\"scatterternary\":[{\"type\":\"scatterternary\",\"marker\":{\"colorbar\":{\"outlinewidth\":0,\"ticks\":\"\"}}}],\"scattercarpet\":[{\"type\":\"scattercarpet\",\"marker\":{\"colorbar\":{\"outlinewidth\":0,\"ticks\":\"\"}}}],\"carpet\":[{\"aaxis\":{\"endlinecolor\":\"#2a3f5f\",\"gridcolor\":\"white\",\"linecolor\":\"white\",\"minorgridcolor\":\"white\",\"startlinecolor\":\"#2a3f5f\"},\"baxis\":{\"endlinecolor\":\"#2a3f5f\",\"gridcolor\":\"white\",\"linecolor\":\"white\",\"minorgridcolor\":\"white\",\"startlinecolor\":\"#2a3f5f\"},\"type\":\"carpet\"}],\"table\":[{\"cells\":{\"fill\":{\"color\":\"#EBF0F8\"},\"line\":{\"color\":\"white\"}},\"header\":{\"fill\":{\"color\":\"#C8D4E3\"},\"line\":{\"color\":\"white\"}},\"type\":\"table\"}],\"barpolar\":[{\"marker\":{\"line\":{\"color\":\"#E5ECF6\",\"width\":0.5},\"pattern\":{\"fillmode\":\"overlay\",\"size\":10,\"solidity\":0.2}},\"type\":\"barpolar\"}],\"pie\":[{\"automargin\":true,\"type\":\"pie\"}]},\"layout\":{\"autotypenumbers\":\"strict\",\"colorway\":[\"#636efa\",\"#EF553B\",\"#00cc96\",\"#ab63fa\",\"#FFA15A\",\"#19d3f3\",\"#FF6692\",\"#B6E880\",\"#FF97FF\",\"#FECB52\"],\"font\":{\"color\":\"#2a3f5f\"},\"hovermode\":\"closest\",\"hoverlabel\":{\"align\":\"left\"},\"paper_bgcolor\":\"white\",\"plot_bgcolor\":\"#E5ECF6\",\"polar\":{\"bgcolor\":\"#E5ECF6\",\"angularaxis\":{\"gridcolor\":\"white\",\"linecolor\":\"white\",\"ticks\":\"\"},\"radialaxis\":{\"gridcolor\":\"white\",\"linecolor\":\"white\",\"ticks\":\"\"}},\"ternary\":{\"bgcolor\":\"#E5ECF6\",\"aaxis\":{\"gridcolor\":\"white\",\"linecolor\":\"white\",\"ticks\":\"\"},\"baxis\":{\"gridcolor\":\"white\",\"linecolor\":\"white\",\"ticks\":\"\"},\"caxis\":{\"gridcolor\":\"white\",\"linecolor\":\"white\",\"ticks\":\"\"}},\"coloraxis\":{\"colorbar\":{\"outlinewidth\":0,\"ticks\":\"\"}},\"colorscale\":{\"sequential\":[[0.0,\"#0d0887\"],[0.1111111111111111,\"#46039f\"],[0.2222222222222222,\"#7201a8\"],[0.3333333333333333,\"#9c179e\"],[0.4444444444444444,\"#bd3786\"],[0.5555555555555556,\"#d8576b\"],[0.6666666666666666,\"#ed7953\"],[0.7777777777777778,\"#fb9f3a\"],[0.8888888888888888,\"#fdca26\"],[1.0,\"#f0f921\"]],\"sequentialminus\":[[0.0,\"#0d0887\"],[0.1111111111111111,\"#46039f\"],[0.2222222222222222,\"#7201a8\"],[0.3333333333333333,\"#9c179e\"],[0.4444444444444444,\"#bd3786\"],[0.5555555555555556,\"#d8576b\"],[0.6666666666666666,\"#ed7953\"],[0.7777777777777778,\"#fb9f3a\"],[0.8888888888888888,\"#fdca26\"],[1.0,\"#f0f921\"]],\"diverging\":[[0,\"#8e0152\"],[0.1,\"#c51b7d\"],[0.2,\"#de77ae\"],[0.3,\"#f1b6da\"],[0.4,\"#fde0ef\"],[0.5,\"#f7f7f7\"],[0.6,\"#e6f5d0\"],[0.7,\"#b8e186\"],[0.8,\"#7fbc41\"],[0.9,\"#4d9221\"],[1,\"#276419\"]]},\"xaxis\":{\"gridcolor\":\"white\",\"linecolor\":\"white\",\"ticks\":\"\",\"title\":{\"standoff\":15},\"zerolinecolor\":\"white\",\"automargin\":true,\"zerolinewidth\":2},\"yaxis\":{\"gridcolor\":\"white\",\"linecolor\":\"white\",\"ticks\":\"\",\"title\":{\"standoff\":15},\"zerolinecolor\":\"white\",\"automargin\":true,\"zerolinewidth\":2},\"scene\":{\"xaxis\":{\"backgroundcolor\":\"#E5ECF6\",\"gridcolor\":\"white\",\"linecolor\":\"white\",\"showbackground\":true,\"ticks\":\"\",\"zerolinecolor\":\"white\",\"gridwidth\":2},\"yaxis\":{\"backgroundcolor\":\"#E5ECF6\",\"gridcolor\":\"white\",\"linecolor\":\"white\",\"showbackground\":true,\"ticks\":\"\",\"zerolinecolor\":\"white\",\"gridwidth\":2},\"zaxis\":{\"backgroundcolor\":\"#E5ECF6\",\"gridcolor\":\"white\",\"linecolor\":\"white\",\"showbackground\":true,\"ticks\":\"\",\"zerolinecolor\":\"white\",\"gridwidth\":2}},\"shapedefaults\":{\"line\":{\"color\":\"#2a3f5f\"}},\"annotationdefaults\":{\"arrowcolor\":\"#2a3f5f\",\"arrowhead\":0,\"arrowwidth\":1},\"geo\":{\"bgcolor\":\"white\",\"landcolor\":\"#E5ECF6\",\"subunitcolor\":\"white\",\"showland\":true,\"showlakes\":true,\"lakecolor\":\"white\"},\"title\":{\"x\":0.05},\"mapbox\":{\"style\":\"light\"}}},\"legend\":{\"tracegroupgap\":0},\"margin\":{\"t\":80,\"l\":40,\"r\":40,\"b\":40},\"title\":{\"text\":\"\\u003cb\\u003eInteractive Construction Portfolio Cost Explorer\\u003c\\u002fb\\u003e\",\"x\":0.5},\"font\":{\"family\":\"Arial, sans-serif\",\"size\":14,\"color\":\"#333\"},\"paper_bgcolor\":\"white\"},                        {\"responsive\": true}                    ).then(function(){\n",
              "                            \n",
              "var gd = document.getElementById('badf42ea-f118-4551-896d-50815f0eba10');\n",
              "var x = new MutationObserver(function (mutations, observer) {{\n",
              "        var display = window.getComputedStyle(gd).display;\n",
              "        if (!display || display === 'none') {{\n",
              "            console.log([gd, 'removed!']);\n",
              "            Plotly.purge(gd);\n",
              "            observer.disconnect();\n",
              "        }}\n",
              "}});\n",
              "\n",
              "// Listen for the removal of the full notebook cells\n",
              "var notebookContainer = gd.closest('#notebook-container');\n",
              "if (notebookContainer) {{\n",
              "    x.observe(notebookContainer, {childList: true});\n",
              "}}\n",
              "\n",
              "// Listen for the clearing of the current output cell\n",
              "var outputEl = gd.closest('.output');\n",
              "if (outputEl) {{\n",
              "    x.observe(outputEl, {childList: true});\n",
              "}}\n",
              "\n",
              "                        })                };                            </script>        </div>\n",
              "</body>\n",
              "</html>"
            ]
          },
          "metadata": {}
        }
      ]
    },
    {
      "cell_type": "markdown",
      "source": [
        "Execute esta célula. O gráfico Sunburst interativo aparecerá diretamente na saída da célula. Teste-o: clique nos segmentos, passe o mouse sobre eles, etc."
      ],
      "metadata": {
        "id": "krAMyrKtmKTJ"
      }
    },
    {
      "cell_type": "markdown",
      "source": [
        "## FASE 5: A Entrega via HTML (Método Colab)\n",
        "\n",
        "Agora, vamos gerar o arquivo HTML final a partir do nosso notebook."
      ],
      "metadata": {
        "id": "CQ-ydtK3mNm7"
      }
    },
    {
      "cell_type": "markdown",
      "source": [
        "Célula de Código 4: Exportar para HTML\n",
        "Esta célula final pega o gráfico que você acabou de criar e o salva em um arquivo HTML que pode ser compartilhado."
      ],
      "metadata": {
        "id": "v88KBMtHmRI1"
      }
    },
    {
      "cell_type": "code",
      "source": [
        "# Step 4: Export the figure to a standalone HTML file for submission\n",
        "\n",
        "# Check if the figure 'fig' exists\n",
        "if 'fig' in locals():\n",
        "    # Define the output file name\n",
        "    output_file_name = \"sunburst_dashboard.html\"\n",
        "\n",
        "    # Export to a standalone HTML file\n",
        "    fig.write_html(output_file_name, full_html=True, include_plotlyjs='cdn')\n",
        "\n",
        "    print(f\"✅ Chart successfully exported to '{output_file_name}'\")\n",
        "    print(\"\\n➡️ Please download this file from the Colab file explorer on the left.\")\n",
        "\n",
        "else:\n",
        "    print(\"❌ Figure 'fig' not found. Please run the chart creation cell first.\")"
      ],
      "metadata": {
        "colab": {
          "base_uri": "https://localhost:8080/",
          "height": 0
        },
        "id": "8XIO0AQlmZh5",
        "outputId": "03b28b5e-4957-4d40-ff1f-007c4d992305"
      },
      "execution_count": 23,
      "outputs": [
        {
          "output_type": "stream",
          "name": "stdout",
          "text": [
            "✅ Chart successfully exported to 'sunburst_dashboard.html'\n",
            "\n",
            "➡️ Please download this file from the Colab file explorer on the left.\n"
          ]
        }
      ]
    },
    {
      "cell_type": "markdown",
      "source": [
        "## FASE 6: Publicação e Submissão Final\n",
        "\n",
        "Esta parte é idêntica ao guia anterior, mas agora você tem o arquivo HTML gerado a partir do Colab.\n"
      ],
      "metadata": {
        "id": "oEiRpt4xma9i"
      }
    },
    {
      "cell_type": "markdown",
      "source": [
        "Publique no GitHub Pages:\n",
        "Vá para o seu repositório no GitHub (ou crie um novo chamado construction-cost-explorer).\n",
        "Clique em Add file -> Upload files.\n",
        "Arraste o arquivo sunburst_dashboard.html que você baixou. Recomendo renomeá-lo para index.html antes de fazer o upload.\n",
        "Clique em Commit changes.\n",
        "Ative e Obtenha o Link:\n",
        "Vá em Settings -> Pages.\n",
        "Ative o GitHub Pages para o branch main.\n",
        "Aguarde 1-2 minutos e copie o link final do seu site (https://github.com/Genovese-Felipe/construction-cost-explorer).\n",
        "Submeta no Labelbox:\n",
        "Use o prompt em inglês da FASE 2.\n",
        "No lugar de todos os 4 campos de URI (data_gen.py, data, viz.py, outputs), cole o SEU LINK DO GITHUB PAGES.\n",
        "Para \"Plot Types\", digite sunburst.\n",
        "Para \"Additional Libraries\", digite no.\n",
        "Pronto! Você completou todo o processo usando uma abordagem profissional e replicável no Google Colab."
      ],
      "metadata": {
        "id": "FQRj20VLmnMx"
      }
    },
    {
      "cell_type": "markdown",
      "source": [
        "Pronto! Você completou todo o processo usando uma abordagem profissional e replicável no Google Colab.\n"
      ],
      "metadata": {
        "id": "PFQbfPeKmqyT"
      }
    }
  ]
}