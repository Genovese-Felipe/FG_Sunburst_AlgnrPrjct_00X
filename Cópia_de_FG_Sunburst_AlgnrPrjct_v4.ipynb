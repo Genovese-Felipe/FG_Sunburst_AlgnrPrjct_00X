{
  "nbformat": 4,
  "nbformat_minor": 0,
  "metadata": {
    "colab": {
      "provenance": [],
      "history_visible": true,
      "mount_file_id": "19nGwa-yOGwLrll81hMeD5E5PSX5Isafs",
      "authorship_tag": "ABX9TyNrfXHFt+HZrgYcdrtLOsrI",
      "include_colab_link": true
    },
    "kernelspec": {
      "name": "python3",
      "display_name": "Python 3"
    },
    "language_info": {
      "name": "python"
    }
  },
  "cells": [
    {
      "cell_type": "markdown",
      "metadata": {
        "id": "view-in-github",
        "colab_type": "text"
      },
      "source": [
        "<a href=\"https://colab.research.google.com/github/Genovese-Felipe/FG_Sunburst_AlgnrPrjct_00X/blob/main/C%C3%B3pia_de_FG_Sunburst_AlgnrPrjct_v4.ipynb\" target=\"_parent\"><img src=\"https://colab.research.google.com/assets/colab-badge.svg\" alt=\"Open In Colab\"/></a>"
      ]
    },
    {
      "cell_type": "code",
      "execution_count": 5,
      "metadata": {
        "id": "wQ9FnJck9Csl"
      },
      "outputs": [],
      "source": [
        "# Cole este código em uma célula para manter ativo:\n",
        "import time\n",
        "from IPython.display import clear_output\n",
        "\n",
        "def keep_alive():\n",
        "    while True:\n",
        "        time.sleep(300)  # 5 minutos\n",
        "        clear_output()\n",
        "        print(\"🟢 Mantendo sessão ativa...\")\n",
        "\n",
        "# Execute em background (opcional)\n",
        "# keep_alive()"
      ]
    },
    {
      "cell_type": "markdown",
      "source": [
        " A partir deste ponto, este será o nosso Plano Diretor e Única Fonte de Verdade. Ele foi construído do zero, consolidando todo o conhecimento dos guias e anexos anteriores, e otimizado para uma execução impecável e sem ambiguidades no Google Colab.\n",
        "Vamos construir sua obra-prima digital, passo a passo.\n"
      ],
      "metadata": {
        "id": "-VegWk9dS_Ec"
      }
    },
    {
      "cell_type": "markdown",
      "source": [
        "#🌟 GUIA MESTRE DEFINITIVO (VERSÃO PERFEITA - GOOGLE COLAB)\n",
        "\n",
        "FASE 0: O PLANO DIRETOR\n",
        "Objetivo Final: Criar um Explorador de Orçamento de Construção Residencial. Será um gráfico Sunburst interativo, com 4 níveis de hierarquia, design profissional, e totalmente livre dos problemas de formatação (textos cortados, cores amadoras) apontados nas diretrizes. A entrega final será um link público para a visualização.\n",
        "Sua Jornada: Você irá copiar e colar apenas dois blocos de código em um notebook do Google Colab. Todo o processo, da geração dos dados à visualização, está contido neles.\n",
        "FASE 1: CONFIGURAÇÃO DO AMBIENTE (O Canteiro de Obras Digital)\n",
        "Acesse o Google Colab: Em seu navegador, vá para colab.research.google.com.\n",
        "Crie um Novo Notebook: No menu, clique em Arquivo -> Novo notebook.\n",
        "Renomeie o Projeto: Clique no nome do arquivo no canto superior esquerdo (ex: Untitled.ipynb) e renomeie para um nome profissional, como: Residential_Project_Cost_Explorer.ipynb."
      ],
      "metadata": {
        "id": "YlnWLT7gTDq-"
      }
    },
    {
      "cell_type": "markdown",
      "source": [
        "https://miro.medium.com/v2/resize:fit:1400/1*M0-3vWA-7UcdILLGSzTgJA.png"
      ],
      "metadata": {
        "id": "mXMWkxQSP8DZ"
      }
    },
    {
      "cell_type": "markdown",
      "source": [
        "\"Develop a sophisticated and fully interactive sunburst chart that provides a granular cost breakdown for a complete residential construction project. The hierarchy must be clearly structured, starting from the three main cost pillars (Project, Management, and Construction), drilling down into functional areas, professional services, and specific tasks. The final output must be an executive-level tool, ensuring label clarity with no cut-offs, a professional color scheme, and intuitive exploration capabilities.\""
      ],
      "metadata": {
        "id": "z0PhW9B6WcXt"
      }
    },
    {
      "cell_type": "markdown",
      "source": [
        "FASE 2: O CÓDIGO MESTRE (A Planta Completa do Projeto)\n",
        "Esta é a fase de construção. Todo o trabalho de programação está consolidado em uma única célula para minimizar qualquer chance de erro.\n",
        "SUA AÇÃO:\n",
        "Copie todo o bloco de código abaixo.\n",
        "Cole-o na primeira e única célula do seu notebook do Google Colab."
      ],
      "metadata": {
        "id": "FS7FyBgbQYPZ"
      }
    },
    {
      "cell_type": "code",
      "source": [
        "# =====================================================================================\n",
        "# FINAL MASTER SCRIPT (v4 - Syntax Corrected): The Perfect Submission\n",
        "# This script performs all actions and prints the required content for Labelbox.\n",
        "# =====================================================================================\n",
        "\n",
        "# Step 1: Install Necessary Libraries\n",
        "print(\"🚀 Step 1 of 4: Installing required libraries...\")\n",
        "!pip install pandas plotly -q\n",
        "print(\"✅ Libraries installed.\")\n",
        "\n",
        "# Step 2: Import Libraries\n",
        "import pandas as pd\n",
        "import plotly.express as px\n",
        "\n",
        "# Step 3: Define Functions for Data Generation and Visualization\n",
        "print(\"\\n🚀 Step 2 of 4: Defining project functions...\")\n",
        "\n",
        "# --- DATA GENERATION FUNCTION ---\n",
        "def generate_construction_data():\n",
        "    \"\"\"Generates the detailed hierarchical data as a pandas DataFrame.\"\"\"\n",
        "    data = [\n",
        "        # Pillar 1: Project Design\n",
        "        {'pillar': 'Project Design', 'area': 'Architecture', 'service': 'Blueprint Design', 'task': 'Initial Schematics & 3D Model', 'cost': 65000},\n",
        "        {'pillar': 'Project Design', 'area': 'Engineering', 'service': 'Structural Analysis', 'task': 'Foundation & Frame Calculations', 'cost': 95000},\n",
        "        {'pillar': 'Project Design', 'area': 'Engineering', 'service': 'MEP Engineering', 'task': 'HVAC & Electrical Plans', 'cost': 85000},\n",
        "        # Pillar 2: Management & Logistics\n",
        "        {'pillar': 'Management', 'area': 'Administration', 'service': 'Project Management', 'task': 'On-Site Supervision & Reporting', 'cost': 130000},\n",
        "        {'pillar': 'Management', 'area': 'Administration', 'service': 'Permits & Legal', 'task': 'City & Environmental Approvals', 'cost': 90000},\n",
        "        {'pillar': 'Management', 'area': 'Logistics', 'service': 'Supply Chain', 'task': 'Material Sourcing & Delivery', 'cost': 70000},\n",
        "        # Pillar 3: Construction\n",
        "        {'pillar': 'Construction', 'area': 'Site & Foundation', 'service': 'Excavation & Grading', 'task': 'Earthwork and Site Prep', 'cost': 160000},\n",
        "        {'pillar': 'Construction', 'area': 'Site & Foundation', 'service': 'Concrete Work', 'task': 'Foundation Pouring & Curing', 'cost': 310000},\n",
        "        {'pillar': 'Construction', 'area': 'Superstructure', 'service': 'Framing & Steel', 'task': 'Wood & Steel Frame Erection', 'cost': 480000},\n",
        "        {'pillar': 'Construction', 'area': 'MEP Systems', 'service': 'Electrical', 'task': 'Complete Wiring & Fixtures', 'cost': 240000},\n",
        "        {'pillar': 'Construction', 'area': 'MEP Systems', 'service': 'Plumbing & HVAC', 'task': 'Piping, Drains & Ductwork', 'cost': 260000},\n",
        "        {'pillar': 'Construction', 'area': 'Interior & Exterior', 'service': 'Drywall & Painting', 'task': 'Interior Walls and Ceilings', 'cost': 190000},\n",
        "        {'pillar': 'Construction', 'area': 'Interior & Exterior', 'service': 'Flooring & Tiling', 'task': 'Hardwood and Ceramic Installation', 'cost': 175000},\n",
        "    ]\n",
        "    return pd.DataFrame(data)\n",
        "\n",
        "# --- VISUALIZATION FUNCTION ---\n",
        "def create_sunburst_figure(df):\n",
        "    \"\"\"Creates the styled, interactive sunburst figure from the DataFrame.\"\"\"\n",
        "    color_map = {\n",
        "        \"Construction\": \"#5D6D7E\",\n",
        "        \"Management\": \"#5499C7\",\n",
        "        \"Project Design\": \"#48C9B0\",\n",
        "        '(?)': '#F4F6F6'\n",
        "    }\n",
        "    fig = px.sunburst(\n",
        "        df,\n",
        "        path=['pillar', 'area', 'service', 'task'], values='cost',\n",
        "        color='pillar', color_discrete_map=color_map, custom_data=['cost']\n",
        "    )\n",
        "    fig.update_layout(\n",
        "        title_text=\"<b>Residential Construction: Hierarchical Cost Explorer</b>\",\n",
        "        title_x=0.5, font=dict(family=\"Arial, sans-serif\", size=16),\n",
        "        margin=dict(t=80, l=40, r=40, b=40),\n",
        "    )\n",
        "    fig.update_traces(\n",
        "        textinfo='label+percent root',\n",
        "        hovertemplate=(\"<b>%{label}</b><br><br><b>Cost:</b> $%{customdata[0]:,.0f}<br><b>Contribution:</b> %{percentParent:.2%}<extra></extra>\"),\n",
        "        insidetextorientation='radial', textfont_size=12,\n",
        "        marker_line=dict(color='#ffffff', width=3)\n",
        "    )\n",
        "    return fig\n",
        "\n",
        "print(\"✅ Project functions defined.\")\n",
        "\n",
        "# Step 4: Execute the Workflow\n",
        "print(\"\\n🚀 Step 3 of 4: Executing data generation and visualization...\")\n",
        "data_df = generate_construction_data()\n",
        "final_fig = create_sunburst_figure(data_df)\n",
        "final_fig.show()\n",
        "print(\"✅ Visualization complete. Please review the chart above.\")\n",
        "\n",
        "# Step 5: Generate and Print Content for Labelbox Submission\n",
        "print(\"\\n🚀 Step 4 of 4: Preparing content for Labelbox submission...\")\n",
        "html_content = final_fig.to_html(full_html=True, include_plotlyjs='cdn')\n",
        "data_gen_script_content = (\n",
        "    \"import pandas as pd\\\\n\\\\n\"\n",
        "    \"data = [\\\\n\"\n",
        "    \"    {'pillar': 'Project Design', 'area': 'Architecture', 'service': 'Blueprint Design', 'task': 'Initial Schematics & 3D Model', 'cost': 65000},\\\\n\"\n",
        "    \"    {'pillar': 'Project Design', 'area': 'Engineering', 'service': 'Structural Analysis', 'task': 'Foundation & Frame Calculations', 'cost': 95000},\\\\n\"\n",
        "    \"    {'pillar': 'Project Design', 'area': 'Engineering', 'service': 'MEP Engineering', 'task': 'HVAC & Electrical Plans', 'cost': 85000},\\\\n\"\n",
        "    \"    {'pillar': 'Management', 'area': 'Administration', 'service': 'Project Management', 'task': 'On-Site Supervision & Reporting', 'cost': 130000},\\\\n\"\n",
        "    \"    {'pillar': 'Management', 'area': 'Administration', 'service': 'Permits & Legal', 'task': 'City & Environmental Approvals', 'cost': 90000},\\\\n\"\n",
        "    \"    {'pillar': 'Management', 'area': 'Logistics', 'service': 'Supply Chain', 'task': 'Material Sourcing & Delivery', 'cost': 70000},\\\\n\"\n",
        "    \"    {'pillar': 'Construction', 'area': 'Site & Foundation', 'service': 'Excavation & Grading', 'task': 'Earthwork and Site Prep', 'cost': 160000},\\\\n\"\n",
        "    \"    {'pillar': 'Construction', 'area': 'Site & Foundation', 'service': 'Concrete Work', 'task': 'Foundation Pouring & Curing', 'cost': 310000},\\\\n\"\n",
        "    \"    {'pillar': 'Construction', 'area': 'Superstructure', 'service': 'Framing & Steel', 'task': 'Wood & Steel Frame Erection', 'cost': 480000},\\\\n\"\n",
        "    \"    {'pillar': 'Construction', 'area': 'MEP Systems', 'service': 'Electrical', 'task': 'Complete Wiring & Fixtures', 'cost': 240000},\\\\n\"\n",
        "    \"    {'pillar': 'Construction', 'area': 'MEP Systems', 'service': 'Plumbing & HVAC', 'task': 'Piping, Drains & Ductwork', 'cost': 260000},\\\\n\"\n",
        "    \"    {'pillar': 'Construction', 'area': 'Interior & Exterior', 'service': 'Drywall & Painting', 'task': 'Interior Walls and Ceilings', 'cost': 190000},\\\\n\"\n",
        "    \"    {'pillar': 'Construction', 'area': 'Interior & Exterior', 'service': 'Flooring & Tiling', 'task': 'Hardwood and Ceramic Installation', 'cost': 175000},\\\\n\"\n",
        "    \"]\\\\n\"\n",
        "    \"df = pd.DataFrame(data)\\\\n\"\n",
        ")\n",
        "viz_script_content = (\n",
        "    \"import pandas as pd\\\\nimport plotly.express as px\\\\n\\\\n\"\n",
        "    \"# In a real script, data would be loaded from a file.\\\\n\"\n",
        "    \"# For pasting into Labelbox, we assume 'df' is pre-existing from the data_gen script.\\\\n\\\\n\"\n",
        "    \"color_map = {\\\\n\"\n",
        "    \"    'Construction': '#5D6D7E',\\\\n    'Management': '#5499C7',\\\\n    'Project Design': '#48C9B0',\\\\n    '(?)': '#F4F6F6'\\\\n\"\n",
        "    \"}\\\\n\"\n",
        "    \"fig = px.sunburst(\\\\n\"\n",
        "    \"    df, path=['pillar', 'area', 'service', 'task'], values='cost',\\\\n\"\n",
        "    \"    color='pillar', color_discrete_map=color_map, custom_data=['cost']\\\\n\"\n",
        "    \")\\\\n\"\n",
        "    \"fig.update_layout(\\\\n\"\n",
        "    \"    title_text='<b>Residential Construction: Hierarchical Cost Explorer</b>',\\\\n\"\n",
        "    \"    title_x=0.5, font=dict(family='Arial, sans-serif', size=16),\\\\n\"\n",
        "    \"    margin=dict(t=80, l=40, r=40, b=40),\\\\n\"\n",
        "    \")\\\\n\"\n",
        "    \"fig.update_traces(\\\\n\"\n",
        "    \"    textinfo='label+percent root',\\\\n\"\n",
        "    \"    hovertemplate='<b>%{label}</b><br><br><b>Cost:</b> $%{customdata[0]:,.0f}<br><b>Contribution:</b> %{percentParent:.2%}<extra></extra>',\\\\n\"\n",
        "    \"    insidetextorientation='radial', textfont_size=12,\\\\n\"\n",
        "    \"    marker_line=dict(color='#ffffff', width=3)\\\\n\"\n",
        "    \")\\\\n\"\n",
        ")\n",
        "\n",
        "# --- PRINTING THE FINAL CONTENT FOR LABELBOX (Corrected Syntax) ---\n",
        "print(\"\\n\" + \"=\"*80)\n",
        "print(\"COPY AND PASTE THE FOLLOWING CONTENT INTO THE LABELBOX FIELDS\")\n",
        "print(\"=\"*80 + \"\\n\")\n",
        "print(\"--- 1. Entire contents of the data generation script (data_gen.py) ---\")\n",
        "print(data_gen_script_content)\n",
        "print(\"\\n\" + \"=\"*80 + \"\\n\")\n",
        "print(\"--- 2. Entire contents of the visualization script (viz.py) ---\")\n",
        "print(viz_script_content)\n",
        "print(\"\\n\" + \"=\"*80 + \"\\n\")\n",
        "print(\"--- 3. Entire contents of the generated HTML file (dashboard.html) ---\")\n",
        "print(html_content)\n",
        "print(\"\\n\" + \"=\"*80)\n",
        "# This is the corrected print statement.\n",
        "print(\"✅ All content is ready for submission.\")"
      ],
      "metadata": {
        "colab": {
          "base_uri": "https://localhost:8080/",
          "height": 1000
        },
        "id": "--7WKz6FQZo6",
        "outputId": "9ac7e94b-a37f-474f-94a1-e52bf54b4876"
      },
      "execution_count": 6,
      "outputs": [
        {
          "output_type": "stream",
          "name": "stdout",
          "text": [
            "🚀 Step 1 of 4: Installing required libraries...\n",
            "✅ Libraries installed.\n",
            "\n",
            "🚀 Step 2 of 4: Defining project functions...\n",
            "✅ Project functions defined.\n",
            "\n",
            "🚀 Step 3 of 4: Executing data generation and visualization...\n"
          ]
        },
        {
          "output_type": "display_data",
          "data": {
            "text/html": [
              "<html>\n",
              "<head><meta charset=\"utf-8\" /></head>\n",
              "<body>\n",
              "    <div>            <script src=\"https://cdnjs.cloudflare.com/ajax/libs/mathjax/2.7.5/MathJax.js?config=TeX-AMS-MML_SVG\"></script><script type=\"text/javascript\">if (window.MathJax && window.MathJax.Hub && window.MathJax.Hub.Config) {window.MathJax.Hub.Config({SVG: {font: \"STIX-Web\"}});}</script>                <script type=\"text/javascript\">window.PlotlyConfig = {MathJaxConfig: 'local'};</script>\n",
              "        <script charset=\"utf-8\" src=\"https://cdn.plot.ly/plotly-2.35.2.min.js\"></script>                <div id=\"90ffabab-8018-4aca-9d1f-35c2c3b83baa\" class=\"plotly-graph-div\" style=\"height:525px; width:100%;\"></div>            <script type=\"text/javascript\">                                    window.PLOTLYENV=window.PLOTLYENV || {};                                    if (document.getElementById(\"90ffabab-8018-4aca-9d1f-35c2c3b83baa\")) {                    Plotly.newPlot(                        \"90ffabab-8018-4aca-9d1f-35c2c3b83baa\",                        [{\"branchvalues\":\"total\",\"customdata\":[[175000,\"Construction\"],[65000,\"Project Design\"],[190000,\"Construction\"],[70000,\"Management\"],[130000,\"Management\"],[260000,\"Construction\"],[480000,\"Construction\"],[95000,\"Project Design\"],[310000,\"Construction\"],[85000,\"Project Design\"],[90000,\"Management\"],[240000,\"Construction\"],[160000,\"Construction\"],[65000,\"Project Design\"],[310000,\"Construction\"],[190000,\"Construction\"],[240000,\"Construction\"],[160000,\"Construction\"],[175000,\"Construction\"],[480000,\"Construction\"],[85000,\"Project Design\"],[90000,\"Management\"],[260000,\"Construction\"],[130000,\"Management\"],[95000,\"Project Design\"],[70000,\"Management\"],[220000,\"Management\"],[65000,\"Project Design\"],[180000,\"Project Design\"],[365000,\"Construction\"],[70000,\"Management\"],[500000,\"Construction\"],[470000,\"Construction\"],[480000,\"Construction\"],[1815000,\"Construction\"],[290000,\"Management\"],[245000,\"Project Design\"]],\"domain\":{\"x\":[0.0,1.0],\"y\":[0.0,1.0]},\"hovertemplate\":\"\\u003cb\\u003e%{label}\\u003c\\u002fb\\u003e\\u003cbr\\u003e\\u003cbr\\u003e\\u003cb\\u003eCost:\\u003c\\u002fb\\u003e $%{customdata[0]:,.0f}\\u003cbr\\u003e\\u003cb\\u003eContribution:\\u003c\\u002fb\\u003e %{percentParent:.2%}\\u003cextra\\u003e\\u003c\\u002fextra\\u003e\",\"ids\":[\"Construction\\u002fInterior & Exterior\\u002fFlooring & Tiling\\u002fHardwood and Ceramic Installation\",\"Project Design\\u002fArchitecture\\u002fBlueprint Design\\u002fInitial Schematics & 3D Model\",\"Construction\\u002fInterior & Exterior\\u002fDrywall & Painting\\u002fInterior Walls and Ceilings\",\"Management\\u002fLogistics\\u002fSupply Chain\\u002fMaterial Sourcing & Delivery\",\"Management\\u002fAdministration\\u002fProject Management\\u002fOn-Site Supervision & Reporting\",\"Construction\\u002fMEP Systems\\u002fPlumbing & HVAC\\u002fPiping, Drains & Ductwork\",\"Construction\\u002fSuperstructure\\u002fFraming & Steel\\u002fWood & Steel Frame Erection\",\"Project Design\\u002fEngineering\\u002fStructural Analysis\\u002fFoundation & Frame Calculations\",\"Construction\\u002fSite & Foundation\\u002fConcrete Work\\u002fFoundation Pouring & Curing\",\"Project Design\\u002fEngineering\\u002fMEP Engineering\\u002fHVAC & Electrical Plans\",\"Management\\u002fAdministration\\u002fPermits & Legal\\u002fCity & Environmental Approvals\",\"Construction\\u002fMEP Systems\\u002fElectrical\\u002fComplete Wiring & Fixtures\",\"Construction\\u002fSite & Foundation\\u002fExcavation & Grading\\u002fEarthwork and Site Prep\",\"Project Design\\u002fArchitecture\\u002fBlueprint Design\",\"Construction\\u002fSite & Foundation\\u002fConcrete Work\",\"Construction\\u002fInterior & Exterior\\u002fDrywall & Painting\",\"Construction\\u002fMEP Systems\\u002fElectrical\",\"Construction\\u002fSite & Foundation\\u002fExcavation & Grading\",\"Construction\\u002fInterior & Exterior\\u002fFlooring & Tiling\",\"Construction\\u002fSuperstructure\\u002fFraming & Steel\",\"Project Design\\u002fEngineering\\u002fMEP Engineering\",\"Management\\u002fAdministration\\u002fPermits & Legal\",\"Construction\\u002fMEP Systems\\u002fPlumbing & HVAC\",\"Management\\u002fAdministration\\u002fProject Management\",\"Project Design\\u002fEngineering\\u002fStructural Analysis\",\"Management\\u002fLogistics\\u002fSupply Chain\",\"Management\\u002fAdministration\",\"Project Design\\u002fArchitecture\",\"Project Design\\u002fEngineering\",\"Construction\\u002fInterior & Exterior\",\"Management\\u002fLogistics\",\"Construction\\u002fMEP Systems\",\"Construction\\u002fSite & Foundation\",\"Construction\\u002fSuperstructure\",\"Construction\",\"Management\",\"Project Design\"],\"labels\":[\"Hardwood and Ceramic Installation\",\"Initial Schematics & 3D Model\",\"Interior Walls and Ceilings\",\"Material Sourcing & Delivery\",\"On-Site Supervision & Reporting\",\"Piping, Drains & Ductwork\",\"Wood & Steel Frame Erection\",\"Foundation & Frame Calculations\",\"Foundation Pouring & Curing\",\"HVAC & Electrical Plans\",\"City & Environmental Approvals\",\"Complete Wiring & Fixtures\",\"Earthwork and Site Prep\",\"Blueprint Design\",\"Concrete Work\",\"Drywall & Painting\",\"Electrical\",\"Excavation & Grading\",\"Flooring & Tiling\",\"Framing & Steel\",\"MEP Engineering\",\"Permits & Legal\",\"Plumbing & HVAC\",\"Project Management\",\"Structural Analysis\",\"Supply Chain\",\"Administration\",\"Architecture\",\"Engineering\",\"Interior & Exterior\",\"Logistics\",\"MEP Systems\",\"Site & Foundation\",\"Superstructure\",\"Construction\",\"Management\",\"Project Design\"],\"marker\":{\"colors\":[\"#5D6D7E\",\"#48C9B0\",\"#5D6D7E\",\"#5499C7\",\"#5499C7\",\"#5D6D7E\",\"#5D6D7E\",\"#48C9B0\",\"#5D6D7E\",\"#48C9B0\",\"#5499C7\",\"#5D6D7E\",\"#5D6D7E\",\"#48C9B0\",\"#5D6D7E\",\"#5D6D7E\",\"#5D6D7E\",\"#5D6D7E\",\"#5D6D7E\",\"#5D6D7E\",\"#48C9B0\",\"#5499C7\",\"#5D6D7E\",\"#5499C7\",\"#48C9B0\",\"#5499C7\",\"#5499C7\",\"#48C9B0\",\"#48C9B0\",\"#5D6D7E\",\"#5499C7\",\"#5D6D7E\",\"#5D6D7E\",\"#5D6D7E\",\"#5D6D7E\",\"#5499C7\",\"#48C9B0\"],\"line\":{\"color\":\"#ffffff\",\"width\":3}},\"name\":\"\",\"parents\":[\"Construction\\u002fInterior & Exterior\\u002fFlooring & Tiling\",\"Project Design\\u002fArchitecture\\u002fBlueprint Design\",\"Construction\\u002fInterior & Exterior\\u002fDrywall & Painting\",\"Management\\u002fLogistics\\u002fSupply Chain\",\"Management\\u002fAdministration\\u002fProject Management\",\"Construction\\u002fMEP Systems\\u002fPlumbing & HVAC\",\"Construction\\u002fSuperstructure\\u002fFraming & Steel\",\"Project Design\\u002fEngineering\\u002fStructural Analysis\",\"Construction\\u002fSite & Foundation\\u002fConcrete Work\",\"Project Design\\u002fEngineering\\u002fMEP Engineering\",\"Management\\u002fAdministration\\u002fPermits & Legal\",\"Construction\\u002fMEP Systems\\u002fElectrical\",\"Construction\\u002fSite & Foundation\\u002fExcavation & Grading\",\"Project Design\\u002fArchitecture\",\"Construction\\u002fSite & Foundation\",\"Construction\\u002fInterior & Exterior\",\"Construction\\u002fMEP Systems\",\"Construction\\u002fSite & Foundation\",\"Construction\\u002fInterior & Exterior\",\"Construction\\u002fSuperstructure\",\"Project Design\\u002fEngineering\",\"Management\\u002fAdministration\",\"Construction\\u002fMEP Systems\",\"Management\\u002fAdministration\",\"Project Design\\u002fEngineering\",\"Management\\u002fLogistics\",\"Management\",\"Project Design\",\"Project Design\",\"Construction\",\"Management\",\"Construction\",\"Construction\",\"Construction\",\"\",\"\",\"\"],\"values\":[175000,65000,190000,70000,130000,260000,480000,95000,310000,85000,90000,240000,160000,65000,310000,190000,240000,160000,175000,480000,85000,90000,260000,130000,95000,70000,220000,65000,180000,365000,70000,500000,470000,480000,1815000,290000,245000],\"type\":\"sunburst\",\"textfont\":{\"size\":12},\"insidetextorientation\":\"radial\",\"textinfo\":\"label+percent root\"}],                        {\"template\":{\"data\":{\"histogram2dcontour\":[{\"type\":\"histogram2dcontour\",\"colorbar\":{\"outlinewidth\":0,\"ticks\":\"\"},\"colorscale\":[[0.0,\"#0d0887\"],[0.1111111111111111,\"#46039f\"],[0.2222222222222222,\"#7201a8\"],[0.3333333333333333,\"#9c179e\"],[0.4444444444444444,\"#bd3786\"],[0.5555555555555556,\"#d8576b\"],[0.6666666666666666,\"#ed7953\"],[0.7777777777777778,\"#fb9f3a\"],[0.8888888888888888,\"#fdca26\"],[1.0,\"#f0f921\"]]}],\"choropleth\":[{\"type\":\"choropleth\",\"colorbar\":{\"outlinewidth\":0,\"ticks\":\"\"}}],\"histogram2d\":[{\"type\":\"histogram2d\",\"colorbar\":{\"outlinewidth\":0,\"ticks\":\"\"},\"colorscale\":[[0.0,\"#0d0887\"],[0.1111111111111111,\"#46039f\"],[0.2222222222222222,\"#7201a8\"],[0.3333333333333333,\"#9c179e\"],[0.4444444444444444,\"#bd3786\"],[0.5555555555555556,\"#d8576b\"],[0.6666666666666666,\"#ed7953\"],[0.7777777777777778,\"#fb9f3a\"],[0.8888888888888888,\"#fdca26\"],[1.0,\"#f0f921\"]]}],\"heatmap\":[{\"type\":\"heatmap\",\"colorbar\":{\"outlinewidth\":0,\"ticks\":\"\"},\"colorscale\":[[0.0,\"#0d0887\"],[0.1111111111111111,\"#46039f\"],[0.2222222222222222,\"#7201a8\"],[0.3333333333333333,\"#9c179e\"],[0.4444444444444444,\"#bd3786\"],[0.5555555555555556,\"#d8576b\"],[0.6666666666666666,\"#ed7953\"],[0.7777777777777778,\"#fb9f3a\"],[0.8888888888888888,\"#fdca26\"],[1.0,\"#f0f921\"]]}],\"heatmapgl\":[{\"type\":\"heatmapgl\",\"colorbar\":{\"outlinewidth\":0,\"ticks\":\"\"},\"colorscale\":[[0.0,\"#0d0887\"],[0.1111111111111111,\"#46039f\"],[0.2222222222222222,\"#7201a8\"],[0.3333333333333333,\"#9c179e\"],[0.4444444444444444,\"#bd3786\"],[0.5555555555555556,\"#d8576b\"],[0.6666666666666666,\"#ed7953\"],[0.7777777777777778,\"#fb9f3a\"],[0.8888888888888888,\"#fdca26\"],[1.0,\"#f0f921\"]]}],\"contourcarpet\":[{\"type\":\"contourcarpet\",\"colorbar\":{\"outlinewidth\":0,\"ticks\":\"\"}}],\"contour\":[{\"type\":\"contour\",\"colorbar\":{\"outlinewidth\":0,\"ticks\":\"\"},\"colorscale\":[[0.0,\"#0d0887\"],[0.1111111111111111,\"#46039f\"],[0.2222222222222222,\"#7201a8\"],[0.3333333333333333,\"#9c179e\"],[0.4444444444444444,\"#bd3786\"],[0.5555555555555556,\"#d8576b\"],[0.6666666666666666,\"#ed7953\"],[0.7777777777777778,\"#fb9f3a\"],[0.8888888888888888,\"#fdca26\"],[1.0,\"#f0f921\"]]}],\"surface\":[{\"type\":\"surface\",\"colorbar\":{\"outlinewidth\":0,\"ticks\":\"\"},\"colorscale\":[[0.0,\"#0d0887\"],[0.1111111111111111,\"#46039f\"],[0.2222222222222222,\"#7201a8\"],[0.3333333333333333,\"#9c179e\"],[0.4444444444444444,\"#bd3786\"],[0.5555555555555556,\"#d8576b\"],[0.6666666666666666,\"#ed7953\"],[0.7777777777777778,\"#fb9f3a\"],[0.8888888888888888,\"#fdca26\"],[1.0,\"#f0f921\"]]}],\"mesh3d\":[{\"type\":\"mesh3d\",\"colorbar\":{\"outlinewidth\":0,\"ticks\":\"\"}}],\"scatter\":[{\"fillpattern\":{\"fillmode\":\"overlay\",\"size\":10,\"solidity\":0.2},\"type\":\"scatter\"}],\"parcoords\":[{\"type\":\"parcoords\",\"line\":{\"colorbar\":{\"outlinewidth\":0,\"ticks\":\"\"}}}],\"scatterpolargl\":[{\"type\":\"scatterpolargl\",\"marker\":{\"colorbar\":{\"outlinewidth\":0,\"ticks\":\"\"}}}],\"bar\":[{\"error_x\":{\"color\":\"#2a3f5f\"},\"error_y\":{\"color\":\"#2a3f5f\"},\"marker\":{\"line\":{\"color\":\"#E5ECF6\",\"width\":0.5},\"pattern\":{\"fillmode\":\"overlay\",\"size\":10,\"solidity\":0.2}},\"type\":\"bar\"}],\"scattergeo\":[{\"type\":\"scattergeo\",\"marker\":{\"colorbar\":{\"outlinewidth\":0,\"ticks\":\"\"}}}],\"scatterpolar\":[{\"type\":\"scatterpolar\",\"marker\":{\"colorbar\":{\"outlinewidth\":0,\"ticks\":\"\"}}}],\"histogram\":[{\"marker\":{\"pattern\":{\"fillmode\":\"overlay\",\"size\":10,\"solidity\":0.2}},\"type\":\"histogram\"}],\"scattergl\":[{\"type\":\"scattergl\",\"marker\":{\"colorbar\":{\"outlinewidth\":0,\"ticks\":\"\"}}}],\"scatter3d\":[{\"type\":\"scatter3d\",\"line\":{\"colorbar\":{\"outlinewidth\":0,\"ticks\":\"\"}},\"marker\":{\"colorbar\":{\"outlinewidth\":0,\"ticks\":\"\"}}}],\"scattermapbox\":[{\"type\":\"scattermapbox\",\"marker\":{\"colorbar\":{\"outlinewidth\":0,\"ticks\":\"\"}}}],\"scatterternary\":[{\"type\":\"scatterternary\",\"marker\":{\"colorbar\":{\"outlinewidth\":0,\"ticks\":\"\"}}}],\"scattercarpet\":[{\"type\":\"scattercarpet\",\"marker\":{\"colorbar\":{\"outlinewidth\":0,\"ticks\":\"\"}}}],\"carpet\":[{\"aaxis\":{\"endlinecolor\":\"#2a3f5f\",\"gridcolor\":\"white\",\"linecolor\":\"white\",\"minorgridcolor\":\"white\",\"startlinecolor\":\"#2a3f5f\"},\"baxis\":{\"endlinecolor\":\"#2a3f5f\",\"gridcolor\":\"white\",\"linecolor\":\"white\",\"minorgridcolor\":\"white\",\"startlinecolor\":\"#2a3f5f\"},\"type\":\"carpet\"}],\"table\":[{\"cells\":{\"fill\":{\"color\":\"#EBF0F8\"},\"line\":{\"color\":\"white\"}},\"header\":{\"fill\":{\"color\":\"#C8D4E3\"},\"line\":{\"color\":\"white\"}},\"type\":\"table\"}],\"barpolar\":[{\"marker\":{\"line\":{\"color\":\"#E5ECF6\",\"width\":0.5},\"pattern\":{\"fillmode\":\"overlay\",\"size\":10,\"solidity\":0.2}},\"type\":\"barpolar\"}],\"pie\":[{\"automargin\":true,\"type\":\"pie\"}]},\"layout\":{\"autotypenumbers\":\"strict\",\"colorway\":[\"#636efa\",\"#EF553B\",\"#00cc96\",\"#ab63fa\",\"#FFA15A\",\"#19d3f3\",\"#FF6692\",\"#B6E880\",\"#FF97FF\",\"#FECB52\"],\"font\":{\"color\":\"#2a3f5f\"},\"hovermode\":\"closest\",\"hoverlabel\":{\"align\":\"left\"},\"paper_bgcolor\":\"white\",\"plot_bgcolor\":\"#E5ECF6\",\"polar\":{\"bgcolor\":\"#E5ECF6\",\"angularaxis\":{\"gridcolor\":\"white\",\"linecolor\":\"white\",\"ticks\":\"\"},\"radialaxis\":{\"gridcolor\":\"white\",\"linecolor\":\"white\",\"ticks\":\"\"}},\"ternary\":{\"bgcolor\":\"#E5ECF6\",\"aaxis\":{\"gridcolor\":\"white\",\"linecolor\":\"white\",\"ticks\":\"\"},\"baxis\":{\"gridcolor\":\"white\",\"linecolor\":\"white\",\"ticks\":\"\"},\"caxis\":{\"gridcolor\":\"white\",\"linecolor\":\"white\",\"ticks\":\"\"}},\"coloraxis\":{\"colorbar\":{\"outlinewidth\":0,\"ticks\":\"\"}},\"colorscale\":{\"sequential\":[[0.0,\"#0d0887\"],[0.1111111111111111,\"#46039f\"],[0.2222222222222222,\"#7201a8\"],[0.3333333333333333,\"#9c179e\"],[0.4444444444444444,\"#bd3786\"],[0.5555555555555556,\"#d8576b\"],[0.6666666666666666,\"#ed7953\"],[0.7777777777777778,\"#fb9f3a\"],[0.8888888888888888,\"#fdca26\"],[1.0,\"#f0f921\"]],\"sequentialminus\":[[0.0,\"#0d0887\"],[0.1111111111111111,\"#46039f\"],[0.2222222222222222,\"#7201a8\"],[0.3333333333333333,\"#9c179e\"],[0.4444444444444444,\"#bd3786\"],[0.5555555555555556,\"#d8576b\"],[0.6666666666666666,\"#ed7953\"],[0.7777777777777778,\"#fb9f3a\"],[0.8888888888888888,\"#fdca26\"],[1.0,\"#f0f921\"]],\"diverging\":[[0,\"#8e0152\"],[0.1,\"#c51b7d\"],[0.2,\"#de77ae\"],[0.3,\"#f1b6da\"],[0.4,\"#fde0ef\"],[0.5,\"#f7f7f7\"],[0.6,\"#e6f5d0\"],[0.7,\"#b8e186\"],[0.8,\"#7fbc41\"],[0.9,\"#4d9221\"],[1,\"#276419\"]]},\"xaxis\":{\"gridcolor\":\"white\",\"linecolor\":\"white\",\"ticks\":\"\",\"title\":{\"standoff\":15},\"zerolinecolor\":\"white\",\"automargin\":true,\"zerolinewidth\":2},\"yaxis\":{\"gridcolor\":\"white\",\"linecolor\":\"white\",\"ticks\":\"\",\"title\":{\"standoff\":15},\"zerolinecolor\":\"white\",\"automargin\":true,\"zerolinewidth\":2},\"scene\":{\"xaxis\":{\"backgroundcolor\":\"#E5ECF6\",\"gridcolor\":\"white\",\"linecolor\":\"white\",\"showbackground\":true,\"ticks\":\"\",\"zerolinecolor\":\"white\",\"gridwidth\":2},\"yaxis\":{\"backgroundcolor\":\"#E5ECF6\",\"gridcolor\":\"white\",\"linecolor\":\"white\",\"showbackground\":true,\"ticks\":\"\",\"zerolinecolor\":\"white\",\"gridwidth\":2},\"zaxis\":{\"backgroundcolor\":\"#E5ECF6\",\"gridcolor\":\"white\",\"linecolor\":\"white\",\"showbackground\":true,\"ticks\":\"\",\"zerolinecolor\":\"white\",\"gridwidth\":2}},\"shapedefaults\":{\"line\":{\"color\":\"#2a3f5f\"}},\"annotationdefaults\":{\"arrowcolor\":\"#2a3f5f\",\"arrowhead\":0,\"arrowwidth\":1},\"geo\":{\"bgcolor\":\"white\",\"landcolor\":\"#E5ECF6\",\"subunitcolor\":\"white\",\"showland\":true,\"showlakes\":true,\"lakecolor\":\"white\"},\"title\":{\"x\":0.05},\"mapbox\":{\"style\":\"light\"}}},\"legend\":{\"tracegroupgap\":0},\"margin\":{\"t\":80,\"l\":40,\"r\":40,\"b\":40},\"title\":{\"text\":\"\\u003cb\\u003eResidential Construction: Hierarchical Cost Explorer\\u003c\\u002fb\\u003e\",\"x\":0.5},\"font\":{\"family\":\"Arial, sans-serif\",\"size\":16}},                        {\"responsive\": true}                    ).then(function(){\n",
              "                            \n",
              "var gd = document.getElementById('90ffabab-8018-4aca-9d1f-35c2c3b83baa');\n",
              "var x = new MutationObserver(function (mutations, observer) {{\n",
              "        var display = window.getComputedStyle(gd).display;\n",
              "        if (!display || display === 'none') {{\n",
              "            console.log([gd, 'removed!']);\n",
              "            Plotly.purge(gd);\n",
              "            observer.disconnect();\n",
              "        }}\n",
              "}});\n",
              "\n",
              "// Listen for the removal of the full notebook cells\n",
              "var notebookContainer = gd.closest('#notebook-container');\n",
              "if (notebookContainer) {{\n",
              "    x.observe(notebookContainer, {childList: true});\n",
              "}}\n",
              "\n",
              "// Listen for the clearing of the current output cell\n",
              "var outputEl = gd.closest('.output');\n",
              "if (outputEl) {{\n",
              "    x.observe(outputEl, {childList: true});\n",
              "}}\n",
              "\n",
              "                        })                };                            </script>        </div>\n",
              "</body>\n",
              "</html>"
            ]
          },
          "metadata": {}
        },
        {
          "output_type": "stream",
          "name": "stdout",
          "text": [
            "✅ Visualization complete. Please review the chart above.\n",
            "\n",
            "🚀 Step 4 of 4: Preparing content for Labelbox submission...\n",
            "\n",
            "================================================================================\n",
            "COPY AND PASTE THE FOLLOWING CONTENT INTO THE LABELBOX FIELDS\n",
            "================================================================================\n",
            "\n",
            "--- 1. Entire contents of the data generation script (data_gen.py) ---\n",
            "import pandas as pd\\n\\ndata = [\\n    {'pillar': 'Project Design', 'area': 'Architecture', 'service': 'Blueprint Design', 'task': 'Initial Schematics & 3D Model', 'cost': 65000},\\n    {'pillar': 'Project Design', 'area': 'Engineering', 'service': 'Structural Analysis', 'task': 'Foundation & Frame Calculations', 'cost': 95000},\\n    {'pillar': 'Project Design', 'area': 'Engineering', 'service': 'MEP Engineering', 'task': 'HVAC & Electrical Plans', 'cost': 85000},\\n    {'pillar': 'Management', 'area': 'Administration', 'service': 'Project Management', 'task': 'On-Site Supervision & Reporting', 'cost': 130000},\\n    {'pillar': 'Management', 'area': 'Administration', 'service': 'Permits & Legal', 'task': 'City & Environmental Approvals', 'cost': 90000},\\n    {'pillar': 'Management', 'area': 'Logistics', 'service': 'Supply Chain', 'task': 'Material Sourcing & Delivery', 'cost': 70000},\\n    {'pillar': 'Construction', 'area': 'Site & Foundation', 'service': 'Excavation & Grading', 'task': 'Earthwork and Site Prep', 'cost': 160000},\\n    {'pillar': 'Construction', 'area': 'Site & Foundation', 'service': 'Concrete Work', 'task': 'Foundation Pouring & Curing', 'cost': 310000},\\n    {'pillar': 'Construction', 'area': 'Superstructure', 'service': 'Framing & Steel', 'task': 'Wood & Steel Frame Erection', 'cost': 480000},\\n    {'pillar': 'Construction', 'area': 'MEP Systems', 'service': 'Electrical', 'task': 'Complete Wiring & Fixtures', 'cost': 240000},\\n    {'pillar': 'Construction', 'area': 'MEP Systems', 'service': 'Plumbing & HVAC', 'task': 'Piping, Drains & Ductwork', 'cost': 260000},\\n    {'pillar': 'Construction', 'area': 'Interior & Exterior', 'service': 'Drywall & Painting', 'task': 'Interior Walls and Ceilings', 'cost': 190000},\\n    {'pillar': 'Construction', 'area': 'Interior & Exterior', 'service': 'Flooring & Tiling', 'task': 'Hardwood and Ceramic Installation', 'cost': 175000},\\n]\\ndf = pd.DataFrame(data)\\n\n",
            "\n",
            "================================================================================\n",
            "\n",
            "--- 2. Entire contents of the visualization script (viz.py) ---\n",
            "import pandas as pd\\nimport plotly.express as px\\n\\n# In a real script, data would be loaded from a file.\\n# For pasting into Labelbox, we assume 'df' is pre-existing from the data_gen script.\\n\\ncolor_map = {\\n    'Construction': '#5D6D7E',\\n    'Management': '#5499C7',\\n    'Project Design': '#48C9B0',\\n    '(?)': '#F4F6F6'\\n}\\nfig = px.sunburst(\\n    df, path=['pillar', 'area', 'service', 'task'], values='cost',\\n    color='pillar', color_discrete_map=color_map, custom_data=['cost']\\n)\\nfig.update_layout(\\n    title_text='<b>Residential Construction: Hierarchical Cost Explorer</b>',\\n    title_x=0.5, font=dict(family='Arial, sans-serif', size=16),\\n    margin=dict(t=80, l=40, r=40, b=40),\\n)\\nfig.update_traces(\\n    textinfo='label+percent root',\\n    hovertemplate='<b>%{label}</b><br><br><b>Cost:</b> $%{customdata[0]:,.0f}<br><b>Contribution:</b> %{percentParent:.2%}<extra></extra>',\\n    insidetextorientation='radial', textfont_size=12,\\n    marker_line=dict(color='#ffffff', width=3)\\n)\\n\n",
            "\n",
            "================================================================================\n",
            "\n",
            "--- 3. Entire contents of the generated HTML file (dashboard.html) ---\n",
            "<html>\n",
            "<head><meta charset=\"utf-8\" /></head>\n",
            "<body>\n",
            "    <div>                        <script type=\"text/javascript\">window.PlotlyConfig = {MathJaxConfig: 'local'};</script>\n",
            "        <script charset=\"utf-8\" src=\"https://cdn.plot.ly/plotly-2.35.2.min.js\"></script>                <div id=\"735da13e-7cff-4e15-95fa-80db2d0a2b7f\" class=\"plotly-graph-div\" style=\"height:100%; width:100%;\"></div>            <script type=\"text/javascript\">                                    window.PLOTLYENV=window.PLOTLYENV || {};                                    if (document.getElementById(\"735da13e-7cff-4e15-95fa-80db2d0a2b7f\")) {                    Plotly.newPlot(                        \"735da13e-7cff-4e15-95fa-80db2d0a2b7f\",                        [{\"branchvalues\":\"total\",\"customdata\":[[175000,\"Construction\"],[65000,\"Project Design\"],[190000,\"Construction\"],[70000,\"Management\"],[130000,\"Management\"],[260000,\"Construction\"],[480000,\"Construction\"],[95000,\"Project Design\"],[310000,\"Construction\"],[85000,\"Project Design\"],[90000,\"Management\"],[240000,\"Construction\"],[160000,\"Construction\"],[65000,\"Project Design\"],[310000,\"Construction\"],[190000,\"Construction\"],[240000,\"Construction\"],[160000,\"Construction\"],[175000,\"Construction\"],[480000,\"Construction\"],[85000,\"Project Design\"],[90000,\"Management\"],[260000,\"Construction\"],[130000,\"Management\"],[95000,\"Project Design\"],[70000,\"Management\"],[220000,\"Management\"],[65000,\"Project Design\"],[180000,\"Project Design\"],[365000,\"Construction\"],[70000,\"Management\"],[500000,\"Construction\"],[470000,\"Construction\"],[480000,\"Construction\"],[1815000,\"Construction\"],[290000,\"Management\"],[245000,\"Project Design\"]],\"domain\":{\"x\":[0.0,1.0],\"y\":[0.0,1.0]},\"hovertemplate\":\"\\u003cb\\u003e%{label}\\u003c\\u002fb\\u003e\\u003cbr\\u003e\\u003cbr\\u003e\\u003cb\\u003eCost:\\u003c\\u002fb\\u003e $%{customdata[0]:,.0f}\\u003cbr\\u003e\\u003cb\\u003eContribution:\\u003c\\u002fb\\u003e %{percentParent:.2%}\\u003cextra\\u003e\\u003c\\u002fextra\\u003e\",\"ids\":[\"Construction\\u002fInterior & Exterior\\u002fFlooring & Tiling\\u002fHardwood and Ceramic Installation\",\"Project Design\\u002fArchitecture\\u002fBlueprint Design\\u002fInitial Schematics & 3D Model\",\"Construction\\u002fInterior & Exterior\\u002fDrywall & Painting\\u002fInterior Walls and Ceilings\",\"Management\\u002fLogistics\\u002fSupply Chain\\u002fMaterial Sourcing & Delivery\",\"Management\\u002fAdministration\\u002fProject Management\\u002fOn-Site Supervision & Reporting\",\"Construction\\u002fMEP Systems\\u002fPlumbing & HVAC\\u002fPiping, Drains & Ductwork\",\"Construction\\u002fSuperstructure\\u002fFraming & Steel\\u002fWood & Steel Frame Erection\",\"Project Design\\u002fEngineering\\u002fStructural Analysis\\u002fFoundation & Frame Calculations\",\"Construction\\u002fSite & Foundation\\u002fConcrete Work\\u002fFoundation Pouring & Curing\",\"Project Design\\u002fEngineering\\u002fMEP Engineering\\u002fHVAC & Electrical Plans\",\"Management\\u002fAdministration\\u002fPermits & Legal\\u002fCity & Environmental Approvals\",\"Construction\\u002fMEP Systems\\u002fElectrical\\u002fComplete Wiring & Fixtures\",\"Construction\\u002fSite & Foundation\\u002fExcavation & Grading\\u002fEarthwork and Site Prep\",\"Project Design\\u002fArchitecture\\u002fBlueprint Design\",\"Construction\\u002fSite & Foundation\\u002fConcrete Work\",\"Construction\\u002fInterior & Exterior\\u002fDrywall & Painting\",\"Construction\\u002fMEP Systems\\u002fElectrical\",\"Construction\\u002fSite & Foundation\\u002fExcavation & Grading\",\"Construction\\u002fInterior & Exterior\\u002fFlooring & Tiling\",\"Construction\\u002fSuperstructure\\u002fFraming & Steel\",\"Project Design\\u002fEngineering\\u002fMEP Engineering\",\"Management\\u002fAdministration\\u002fPermits & Legal\",\"Construction\\u002fMEP Systems\\u002fPlumbing & HVAC\",\"Management\\u002fAdministration\\u002fProject Management\",\"Project Design\\u002fEngineering\\u002fStructural Analysis\",\"Management\\u002fLogistics\\u002fSupply Chain\",\"Management\\u002fAdministration\",\"Project Design\\u002fArchitecture\",\"Project Design\\u002fEngineering\",\"Construction\\u002fInterior & Exterior\",\"Management\\u002fLogistics\",\"Construction\\u002fMEP Systems\",\"Construction\\u002fSite & Foundation\",\"Construction\\u002fSuperstructure\",\"Construction\",\"Management\",\"Project Design\"],\"labels\":[\"Hardwood and Ceramic Installation\",\"Initial Schematics & 3D Model\",\"Interior Walls and Ceilings\",\"Material Sourcing & Delivery\",\"On-Site Supervision & Reporting\",\"Piping, Drains & Ductwork\",\"Wood & Steel Frame Erection\",\"Foundation & Frame Calculations\",\"Foundation Pouring & Curing\",\"HVAC & Electrical Plans\",\"City & Environmental Approvals\",\"Complete Wiring & Fixtures\",\"Earthwork and Site Prep\",\"Blueprint Design\",\"Concrete Work\",\"Drywall & Painting\",\"Electrical\",\"Excavation & Grading\",\"Flooring & Tiling\",\"Framing & Steel\",\"MEP Engineering\",\"Permits & Legal\",\"Plumbing & HVAC\",\"Project Management\",\"Structural Analysis\",\"Supply Chain\",\"Administration\",\"Architecture\",\"Engineering\",\"Interior & Exterior\",\"Logistics\",\"MEP Systems\",\"Site & Foundation\",\"Superstructure\",\"Construction\",\"Management\",\"Project Design\"],\"marker\":{\"colors\":[\"#5D6D7E\",\"#48C9B0\",\"#5D6D7E\",\"#5499C7\",\"#5499C7\",\"#5D6D7E\",\"#5D6D7E\",\"#48C9B0\",\"#5D6D7E\",\"#48C9B0\",\"#5499C7\",\"#5D6D7E\",\"#5D6D7E\",\"#48C9B0\",\"#5D6D7E\",\"#5D6D7E\",\"#5D6D7E\",\"#5D6D7E\",\"#5D6D7E\",\"#5D6D7E\",\"#48C9B0\",\"#5499C7\",\"#5D6D7E\",\"#5499C7\",\"#48C9B0\",\"#5499C7\",\"#5499C7\",\"#48C9B0\",\"#48C9B0\",\"#5D6D7E\",\"#5499C7\",\"#5D6D7E\",\"#5D6D7E\",\"#5D6D7E\",\"#5D6D7E\",\"#5499C7\",\"#48C9B0\"],\"line\":{\"color\":\"#ffffff\",\"width\":3}},\"name\":\"\",\"parents\":[\"Construction\\u002fInterior & Exterior\\u002fFlooring & Tiling\",\"Project Design\\u002fArchitecture\\u002fBlueprint Design\",\"Construction\\u002fInterior & Exterior\\u002fDrywall & Painting\",\"Management\\u002fLogistics\\u002fSupply Chain\",\"Management\\u002fAdministration\\u002fProject Management\",\"Construction\\u002fMEP Systems\\u002fPlumbing & HVAC\",\"Construction\\u002fSuperstructure\\u002fFraming & Steel\",\"Project Design\\u002fEngineering\\u002fStructural Analysis\",\"Construction\\u002fSite & Foundation\\u002fConcrete Work\",\"Project Design\\u002fEngineering\\u002fMEP Engineering\",\"Management\\u002fAdministration\\u002fPermits & Legal\",\"Construction\\u002fMEP Systems\\u002fElectrical\",\"Construction\\u002fSite & Foundation\\u002fExcavation & Grading\",\"Project Design\\u002fArchitecture\",\"Construction\\u002fSite & Foundation\",\"Construction\\u002fInterior & Exterior\",\"Construction\\u002fMEP Systems\",\"Construction\\u002fSite & Foundation\",\"Construction\\u002fInterior & Exterior\",\"Construction\\u002fSuperstructure\",\"Project Design\\u002fEngineering\",\"Management\\u002fAdministration\",\"Construction\\u002fMEP Systems\",\"Management\\u002fAdministration\",\"Project Design\\u002fEngineering\",\"Management\\u002fLogistics\",\"Management\",\"Project Design\",\"Project Design\",\"Construction\",\"Management\",\"Construction\",\"Construction\",\"Construction\",\"\",\"\",\"\"],\"values\":[175000,65000,190000,70000,130000,260000,480000,95000,310000,85000,90000,240000,160000,65000,310000,190000,240000,160000,175000,480000,85000,90000,260000,130000,95000,70000,220000,65000,180000,365000,70000,500000,470000,480000,1815000,290000,245000],\"type\":\"sunburst\",\"textfont\":{\"size\":12},\"insidetextorientation\":\"radial\",\"textinfo\":\"label+percent root\"}],                        {\"template\":{\"data\":{\"histogram2dcontour\":[{\"type\":\"histogram2dcontour\",\"colorbar\":{\"outlinewidth\":0,\"ticks\":\"\"},\"colorscale\":[[0.0,\"#0d0887\"],[0.1111111111111111,\"#46039f\"],[0.2222222222222222,\"#7201a8\"],[0.3333333333333333,\"#9c179e\"],[0.4444444444444444,\"#bd3786\"],[0.5555555555555556,\"#d8576b\"],[0.6666666666666666,\"#ed7953\"],[0.7777777777777778,\"#fb9f3a\"],[0.8888888888888888,\"#fdca26\"],[1.0,\"#f0f921\"]]}],\"choropleth\":[{\"type\":\"choropleth\",\"colorbar\":{\"outlinewidth\":0,\"ticks\":\"\"}}],\"histogram2d\":[{\"type\":\"histogram2d\",\"colorbar\":{\"outlinewidth\":0,\"ticks\":\"\"},\"colorscale\":[[0.0,\"#0d0887\"],[0.1111111111111111,\"#46039f\"],[0.2222222222222222,\"#7201a8\"],[0.3333333333333333,\"#9c179e\"],[0.4444444444444444,\"#bd3786\"],[0.5555555555555556,\"#d8576b\"],[0.6666666666666666,\"#ed7953\"],[0.7777777777777778,\"#fb9f3a\"],[0.8888888888888888,\"#fdca26\"],[1.0,\"#f0f921\"]]}],\"heatmap\":[{\"type\":\"heatmap\",\"colorbar\":{\"outlinewidth\":0,\"ticks\":\"\"},\"colorscale\":[[0.0,\"#0d0887\"],[0.1111111111111111,\"#46039f\"],[0.2222222222222222,\"#7201a8\"],[0.3333333333333333,\"#9c179e\"],[0.4444444444444444,\"#bd3786\"],[0.5555555555555556,\"#d8576b\"],[0.6666666666666666,\"#ed7953\"],[0.7777777777777778,\"#fb9f3a\"],[0.8888888888888888,\"#fdca26\"],[1.0,\"#f0f921\"]]}],\"heatmapgl\":[{\"type\":\"heatmapgl\",\"colorbar\":{\"outlinewidth\":0,\"ticks\":\"\"},\"colorscale\":[[0.0,\"#0d0887\"],[0.1111111111111111,\"#46039f\"],[0.2222222222222222,\"#7201a8\"],[0.3333333333333333,\"#9c179e\"],[0.4444444444444444,\"#bd3786\"],[0.5555555555555556,\"#d8576b\"],[0.6666666666666666,\"#ed7953\"],[0.7777777777777778,\"#fb9f3a\"],[0.8888888888888888,\"#fdca26\"],[1.0,\"#f0f921\"]]}],\"contourcarpet\":[{\"type\":\"contourcarpet\",\"colorbar\":{\"outlinewidth\":0,\"ticks\":\"\"}}],\"contour\":[{\"type\":\"contour\",\"colorbar\":{\"outlinewidth\":0,\"ticks\":\"\"},\"colorscale\":[[0.0,\"#0d0887\"],[0.1111111111111111,\"#46039f\"],[0.2222222222222222,\"#7201a8\"],[0.3333333333333333,\"#9c179e\"],[0.4444444444444444,\"#bd3786\"],[0.5555555555555556,\"#d8576b\"],[0.6666666666666666,\"#ed7953\"],[0.7777777777777778,\"#fb9f3a\"],[0.8888888888888888,\"#fdca26\"],[1.0,\"#f0f921\"]]}],\"surface\":[{\"type\":\"surface\",\"colorbar\":{\"outlinewidth\":0,\"ticks\":\"\"},\"colorscale\":[[0.0,\"#0d0887\"],[0.1111111111111111,\"#46039f\"],[0.2222222222222222,\"#7201a8\"],[0.3333333333333333,\"#9c179e\"],[0.4444444444444444,\"#bd3786\"],[0.5555555555555556,\"#d8576b\"],[0.6666666666666666,\"#ed7953\"],[0.7777777777777778,\"#fb9f3a\"],[0.8888888888888888,\"#fdca26\"],[1.0,\"#f0f921\"]]}],\"mesh3d\":[{\"type\":\"mesh3d\",\"colorbar\":{\"outlinewidth\":0,\"ticks\":\"\"}}],\"scatter\":[{\"fillpattern\":{\"fillmode\":\"overlay\",\"size\":10,\"solidity\":0.2},\"type\":\"scatter\"}],\"parcoords\":[{\"type\":\"parcoords\",\"line\":{\"colorbar\":{\"outlinewidth\":0,\"ticks\":\"\"}}}],\"scatterpolargl\":[{\"type\":\"scatterpolargl\",\"marker\":{\"colorbar\":{\"outlinewidth\":0,\"ticks\":\"\"}}}],\"bar\":[{\"error_x\":{\"color\":\"#2a3f5f\"},\"error_y\":{\"color\":\"#2a3f5f\"},\"marker\":{\"line\":{\"color\":\"#E5ECF6\",\"width\":0.5},\"pattern\":{\"fillmode\":\"overlay\",\"size\":10,\"solidity\":0.2}},\"type\":\"bar\"}],\"scattergeo\":[{\"type\":\"scattergeo\",\"marker\":{\"colorbar\":{\"outlinewidth\":0,\"ticks\":\"\"}}}],\"scatterpolar\":[{\"type\":\"scatterpolar\",\"marker\":{\"colorbar\":{\"outlinewidth\":0,\"ticks\":\"\"}}}],\"histogram\":[{\"marker\":{\"pattern\":{\"fillmode\":\"overlay\",\"size\":10,\"solidity\":0.2}},\"type\":\"histogram\"}],\"scattergl\":[{\"type\":\"scattergl\",\"marker\":{\"colorbar\":{\"outlinewidth\":0,\"ticks\":\"\"}}}],\"scatter3d\":[{\"type\":\"scatter3d\",\"line\":{\"colorbar\":{\"outlinewidth\":0,\"ticks\":\"\"}},\"marker\":{\"colorbar\":{\"outlinewidth\":0,\"ticks\":\"\"}}}],\"scattermapbox\":[{\"type\":\"scattermapbox\",\"marker\":{\"colorbar\":{\"outlinewidth\":0,\"ticks\":\"\"}}}],\"scatterternary\":[{\"type\":\"scatterternary\",\"marker\":{\"colorbar\":{\"outlinewidth\":0,\"ticks\":\"\"}}}],\"scattercarpet\":[{\"type\":\"scattercarpet\",\"marker\":{\"colorbar\":{\"outlinewidth\":0,\"ticks\":\"\"}}}],\"carpet\":[{\"aaxis\":{\"endlinecolor\":\"#2a3f5f\",\"gridcolor\":\"white\",\"linecolor\":\"white\",\"minorgridcolor\":\"white\",\"startlinecolor\":\"#2a3f5f\"},\"baxis\":{\"endlinecolor\":\"#2a3f5f\",\"gridcolor\":\"white\",\"linecolor\":\"white\",\"minorgridcolor\":\"white\",\"startlinecolor\":\"#2a3f5f\"},\"type\":\"carpet\"}],\"table\":[{\"cells\":{\"fill\":{\"color\":\"#EBF0F8\"},\"line\":{\"color\":\"white\"}},\"header\":{\"fill\":{\"color\":\"#C8D4E3\"},\"line\":{\"color\":\"white\"}},\"type\":\"table\"}],\"barpolar\":[{\"marker\":{\"line\":{\"color\":\"#E5ECF6\",\"width\":0.5},\"pattern\":{\"fillmode\":\"overlay\",\"size\":10,\"solidity\":0.2}},\"type\":\"barpolar\"}],\"pie\":[{\"automargin\":true,\"type\":\"pie\"}]},\"layout\":{\"autotypenumbers\":\"strict\",\"colorway\":[\"#636efa\",\"#EF553B\",\"#00cc96\",\"#ab63fa\",\"#FFA15A\",\"#19d3f3\",\"#FF6692\",\"#B6E880\",\"#FF97FF\",\"#FECB52\"],\"font\":{\"color\":\"#2a3f5f\"},\"hovermode\":\"closest\",\"hoverlabel\":{\"align\":\"left\"},\"paper_bgcolor\":\"white\",\"plot_bgcolor\":\"#E5ECF6\",\"polar\":{\"bgcolor\":\"#E5ECF6\",\"angularaxis\":{\"gridcolor\":\"white\",\"linecolor\":\"white\",\"ticks\":\"\"},\"radialaxis\":{\"gridcolor\":\"white\",\"linecolor\":\"white\",\"ticks\":\"\"}},\"ternary\":{\"bgcolor\":\"#E5ECF6\",\"aaxis\":{\"gridcolor\":\"white\",\"linecolor\":\"white\",\"ticks\":\"\"},\"baxis\":{\"gridcolor\":\"white\",\"linecolor\":\"white\",\"ticks\":\"\"},\"caxis\":{\"gridcolor\":\"white\",\"linecolor\":\"white\",\"ticks\":\"\"}},\"coloraxis\":{\"colorbar\":{\"outlinewidth\":0,\"ticks\":\"\"}},\"colorscale\":{\"sequential\":[[0.0,\"#0d0887\"],[0.1111111111111111,\"#46039f\"],[0.2222222222222222,\"#7201a8\"],[0.3333333333333333,\"#9c179e\"],[0.4444444444444444,\"#bd3786\"],[0.5555555555555556,\"#d8576b\"],[0.6666666666666666,\"#ed7953\"],[0.7777777777777778,\"#fb9f3a\"],[0.8888888888888888,\"#fdca26\"],[1.0,\"#f0f921\"]],\"sequentialminus\":[[0.0,\"#0d0887\"],[0.1111111111111111,\"#46039f\"],[0.2222222222222222,\"#7201a8\"],[0.3333333333333333,\"#9c179e\"],[0.4444444444444444,\"#bd3786\"],[0.5555555555555556,\"#d8576b\"],[0.6666666666666666,\"#ed7953\"],[0.7777777777777778,\"#fb9f3a\"],[0.8888888888888888,\"#fdca26\"],[1.0,\"#f0f921\"]],\"diverging\":[[0,\"#8e0152\"],[0.1,\"#c51b7d\"],[0.2,\"#de77ae\"],[0.3,\"#f1b6da\"],[0.4,\"#fde0ef\"],[0.5,\"#f7f7f7\"],[0.6,\"#e6f5d0\"],[0.7,\"#b8e186\"],[0.8,\"#7fbc41\"],[0.9,\"#4d9221\"],[1,\"#276419\"]]},\"xaxis\":{\"gridcolor\":\"white\",\"linecolor\":\"white\",\"ticks\":\"\",\"title\":{\"standoff\":15},\"zerolinecolor\":\"white\",\"automargin\":true,\"zerolinewidth\":2},\"yaxis\":{\"gridcolor\":\"white\",\"linecolor\":\"white\",\"ticks\":\"\",\"title\":{\"standoff\":15},\"zerolinecolor\":\"white\",\"automargin\":true,\"zerolinewidth\":2},\"scene\":{\"xaxis\":{\"backgroundcolor\":\"#E5ECF6\",\"gridcolor\":\"white\",\"linecolor\":\"white\",\"showbackground\":true,\"ticks\":\"\",\"zerolinecolor\":\"white\",\"gridwidth\":2},\"yaxis\":{\"backgroundcolor\":\"#E5ECF6\",\"gridcolor\":\"white\",\"linecolor\":\"white\",\"showbackground\":true,\"ticks\":\"\",\"zerolinecolor\":\"white\",\"gridwidth\":2},\"zaxis\":{\"backgroundcolor\":\"#E5ECF6\",\"gridcolor\":\"white\",\"linecolor\":\"white\",\"showbackground\":true,\"ticks\":\"\",\"zerolinecolor\":\"white\",\"gridwidth\":2}},\"shapedefaults\":{\"line\":{\"color\":\"#2a3f5f\"}},\"annotationdefaults\":{\"arrowcolor\":\"#2a3f5f\",\"arrowhead\":0,\"arrowwidth\":1},\"geo\":{\"bgcolor\":\"white\",\"landcolor\":\"#E5ECF6\",\"subunitcolor\":\"white\",\"showland\":true,\"showlakes\":true,\"lakecolor\":\"white\"},\"title\":{\"x\":0.05},\"mapbox\":{\"style\":\"light\"}}},\"legend\":{\"tracegroupgap\":0},\"margin\":{\"t\":80,\"l\":40,\"r\":40,\"b\":40},\"title\":{\"text\":\"\\u003cb\\u003eResidential Construction: Hierarchical Cost Explorer\\u003c\\u002fb\\u003e\",\"x\":0.5},\"font\":{\"family\":\"Arial, sans-serif\",\"size\":16}},                        {\"responsive\": true}                    )                };                            </script>        </div>\n",
            "</body>\n",
            "</html>\n",
            "\n",
            "================================================================================\n",
            "✅ All content is ready for submission.\n"
          ]
        }
      ]
    },
    {
      "cell_type": "markdown",
      "source": [
        "Execute o Código Mestre:\n",
        "Clique na célula.\n",
        "Pressione Shift+Enter ou clique no ícone de \"play\" à esquerda.\n",
        "Aguarde a conclusão. O processo irá instalar as bibliotecas, gerar os dados e, por fim, exibir o gráfico Sunburst interativo diretamente na saída da célula.\n",
        "Inspecione seu Trabalho:\n",
        "Interaja com o gráfico. Clique em \"Construction\". Veja como ele dá zoom. Clique no centro para voltar.\n",
        "Passe o mouse sobre os segmentos. Veja o tooltip detalhado que criamos.\n",
        "Verifique se não há textos cortados e se a aparência é profissional."
      ],
      "metadata": {
        "id": "ZMvUaT4UTbyL"
      }
    },
    {
      "cell_type": "markdown",
      "source": [
        "FASE 5: A ENTREGA FINAL (Publicação e Submissão)\n",
        "O processo é o mesmo da nossa última conversa. Ele é o método correto e profissional.\n",
        "Baixe seu Arquivo Final:\n",
        "No Colab, clique no ícone de pasta na barra lateral esquerda.\n",
        "Você verá o arquivo index.html.\n",
        "Clique nos três pontos ... ao lado de index.html e selecione Fazer o download.\n",
        "Publique no GitHub Pages:\n",
        "Crie um novo repositório público no GitHub (ex: elite-sunburst-viewer).\n",
        "Faça o upload do seu arquivo index.html para este repositório.\n",
        "Vá em Settings -> Pages e ative a publicação a partir do branch main.\n",
        "Aguarde 1-2 minutos e copie o link final do seu site.\n",
        "Preencha e Submeta no Labelbox:\n",
        "Reference Image URL: Use a URL de uma imagem de sunburst profissional (ex: https://i.imgur.com/bX93U15.png).\n",
        "Prompt: Cole o prompt em inglês da FASE 2.\n",
        "Nos 4 campos de URI (data_gen.py, data, viz.py, outputs): Cole o seu link final do GitHub Pages.\n",
        "Plot Types: sunburst.\n",
        "Additional Libraries: no."
      ],
      "metadata": {
        "id": "9usUpeduTow6"
      }
    }
  ]
}