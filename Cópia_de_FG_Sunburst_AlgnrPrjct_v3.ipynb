{
  "nbformat": 4,
  "nbformat_minor": 0,
  "metadata": {
    "colab": {
      "provenance": [],
      "history_visible": true,
      "mount_file_id": "19nGwa-yOGwLrll81hMeD5E5PSX5Isafs",
      "authorship_tag": "ABX9TyM8X93m06loU0iIpU56wQY7",
      "include_colab_link": true
    },
    "kernelspec": {
      "name": "python3",
      "display_name": "Python 3"
    },
    "language_info": {
      "name": "python"
    }
  },
  "cells": [
    {
      "cell_type": "markdown",
      "metadata": {
        "id": "view-in-github",
        "colab_type": "text"
      },
      "source": [
        "<a href=\"https://colab.research.google.com/github/Genovese-Felipe/FG_Sunburst_AlgnrPrjct_00X/blob/main/C%C3%B3pia_de_FG_Sunburst_AlgnrPrjct_v3.ipynb\" target=\"_parent\"><img src=\"https://colab.research.google.com/assets/colab-badge.svg\" alt=\"Open In Colab\"/></a>"
      ]
    },
    {
      "cell_type": "code",
      "execution_count": null,
      "metadata": {
        "id": "wQ9FnJck9Csl"
      },
      "outputs": [],
      "source": [
        "# Cole este código em uma célula para manter ativo:\n",
        "import time\n",
        "from IPython.display import clear_output\n",
        "\n",
        "def keep_alive():\n",
        "    while True:\n",
        "        time.sleep(300)  # 5 minutos\n",
        "        clear_output()\n",
        "        print(\"🟢 Mantendo sessão ativa...\")\n",
        "\n",
        "# Execute em background (opcional)\n",
        "# keep_alive()"
      ]
    },
    {
      "cell_type": "markdown",
      "source": [
        " A partir deste ponto, este será o nosso Plano Diretor e Única Fonte de Verdade. Ele foi construído do zero, consolidando todo o conhecimento dos guias e anexos anteriores, e otimizado para uma execução impecável e sem ambiguidades no Google Colab.\n",
        "Vamos construir sua obra-prima digital, passo a passo.\n"
      ],
      "metadata": {
        "id": "-VegWk9dS_Ec"
      }
    },
    {
      "cell_type": "markdown",
      "source": [
        "#🌟 GUIA MESTRE DEFINITIVO (VERSÃO PERFEITA - GOOGLE COLAB)\n",
        "\n",
        "FASE 0: O PLANO DIRETOR\n",
        "Objetivo Final: Criar um Explorador de Orçamento de Construção Residencial. Será um gráfico Sunburst interativo, com 4 níveis de hierarquia, design profissional, e totalmente livre dos problemas de formatação (textos cortados, cores amadoras) apontados nas diretrizes. A entrega final será um link público para a visualização.\n",
        "Sua Jornada: Você irá copiar e colar apenas dois blocos de código em um notebook do Google Colab. Todo o processo, da geração dos dados à visualização, está contido neles.\n",
        "FASE 1: CONFIGURAÇÃO DO AMBIENTE (O Canteiro de Obras Digital)\n",
        "Acesse o Google Colab: Em seu navegador, vá para colab.research.google.com.\n",
        "Crie um Novo Notebook: No menu, clique em Arquivo -> Novo notebook.\n",
        "Renomeie o Projeto: Clique no nome do arquivo no canto superior esquerdo (ex: Untitled.ipynb) e renomeie para um nome profissional, como: Residential_Project_Cost_Explorer.ipynb."
      ],
      "metadata": {
        "id": "YlnWLT7gTDq-"
      }
    },
    {
      "cell_type": "markdown",
      "source": [
        "https://miro.medium.com/v2/resize:fit:1400/1*M0-3vWA-7UcdILLGSzTgJA.png"
      ],
      "metadata": {
        "id": "mXMWkxQSP8DZ"
      }
    },
    {
      "cell_type": "markdown",
      "source": [
        "\"Develop a sophisticated and fully interactive sunburst chart that provides a granular cost breakdown for a complete residential construction project. The hierarchy must be clearly structured, starting from the three main cost pillars (Project, Management, and Construction), drilling down into functional areas, professional services, and specific tasks. The final output must be an executive-level tool, ensuring label clarity with no cut-offs, a professional color scheme, and intuitive exploration capabilities.\""
      ],
      "metadata": {
        "id": "z0PhW9B6WcXt"
      }
    },
    {
      "cell_type": "markdown",
      "source": [
        "FASE 2: O CÓDIGO MESTRE (A Planta Completa do Projeto)\n",
        "Esta é a fase de construção. Todo o trabalho de programação está consolidado em uma única célula para minimizar qualquer chance de erro.\n",
        "SUA AÇÃO:\n",
        "Copie todo o bloco de código abaixo.\n",
        "Cole-o na primeira e única célula do seu notebook do Google Colab."
      ],
      "metadata": {
        "id": "FS7FyBgbQYPZ"
      }
    },
    {
      "cell_type": "code",
      "source": [
        "# =====================================================================================\n",
        "# FINAL MASTER SCRIPT (v3): Professional Palette & Content Output for Labelbox\n",
        "# This script performs all actions and then prints the required content for submission.\n",
        "# =====================================================================================\n",
        "\n",
        "# Step 1: Install Libraries\n",
        "print(\"🚀 Step 1 of 4: Installing required libraries...\")\n",
        "!pip install pandas plotly -q\n",
        "print(\"✅ Libraries installed.\")\n",
        "\n",
        "# Step 2: Import Libraries\n",
        "import pandas as pd\n",
        "import plotly.express as px\n",
        "\n",
        "# Step 3: Define Functions for Data Generation and Visualization\n",
        "print(\"\\n🚀 Step 2 of 4: Defining project functions...\")\n",
        "\n",
        "# --- DATA GENERATION FUNCTION ---\n",
        "def generate_construction_data():\n",
        "    \"\"\"Generates the detailed hierarchical data as a pandas DataFrame.\"\"\"\n",
        "    data = [\n",
        "        # Pillar 1: Project Design\n",
        "        {'pillar': 'Project Design', 'area': 'Architecture', 'service': 'Blueprint Design', 'task': 'Initial Schematics & 3D Model', 'cost': 65000},\n",
        "        {'pillar': 'Project Design', 'area': 'Engineering', 'service': 'Structural Analysis', 'task': 'Foundation & Frame Calculations', 'cost': 95000},\n",
        "        {'pillar': 'Project Design', 'area': 'Engineering', 'service': 'MEP Engineering', 'task': 'HVAC & Electrical Plans', 'cost': 85000},\n",
        "        # Pillar 2: Management & Logistics\n",
        "        {'pillar': 'Management', 'area': 'Administration', 'service': 'Project Management', 'task': 'On-Site Supervision & Reporting', 'cost': 130000},\n",
        "        {'pillar': 'Management', 'area': 'Administration', 'service': 'Permits & Legal', 'task': 'City & Environmental Approvals', 'cost': 90000},\n",
        "        {'pillar': 'Management', 'area': 'Logistics', 'service': 'Supply Chain', 'task': 'Material Sourcing & Delivery', 'cost': 70000},\n",
        "        # Pillar 3: Construction\n",
        "        {'pillar': 'Construction', 'area': 'Site & Foundation', 'service': 'Excavation & Grading', 'task': 'Earthwork and Site Prep', 'cost': 160000},\n",
        "        {'pillar': 'Construction', 'area': 'Site & Foundation', 'service': 'Concrete Work', 'task': 'Foundation Pouring & Curing', 'cost': 310000},\n",
        "        {'pillar': 'Construction', 'area': 'Superstructure', 'service': 'Framing & Steel', 'task': 'Wood & Steel Frame Erection', 'cost': 480000},\n",
        "        {'pillar': 'Construction', 'area': 'MEP Systems', 'service': 'Electrical', 'task': 'Complete Wiring & Fixtures', 'cost': 240000},\n",
        "        {'pillar': 'Construction', 'area': 'MEP Systems', 'service': 'Plumbing & HVAC', 'task': 'Piping, Drains & Ductwork', 'cost': 260000},\n",
        "        {'pillar': 'Construction', 'area': 'Interior & Exterior', 'service': 'Drywall & Painting', 'task': 'Interior Walls and Ceilings', 'cost': 190000},\n",
        "        {'pillar': 'Construction', 'area': 'Interior & Exterior', 'service': 'Flooring & Tiling', 'task': 'Hardwood and Ceramic Installation', 'cost': 175000},\n",
        "    ]\n",
        "    return pd.DataFrame(data)\n",
        "\n",
        "# --- VISUALIZATION FUNCTION ---\n",
        "def create_sunburst_figure(df):\n",
        "    \"\"\"Creates the styled, interactive sunburst figure from the DataFrame.\"\"\"\n",
        "    # --- ELITE COLOR PALETTE SOLUTION ---\n",
        "    # This palette uses professional, harmonious, and accessible colors.\n",
        "    # It follows a blue -> green -> grey/brown scheme, which is common in corporate dashboards.\n",
        "    color_map = {\n",
        "        \"Construction\": \"#5D6D7E\",  # Slate Gray\n",
        "        \"Management\": \"#5499C7\",      # Corporate Blue\n",
        "        \"Project Design\": \"#48C9B0\",    # Teal Green\n",
        "        '(?)': '#F4F6F6'\n",
        "    }\n",
        "\n",
        "    fig = px.sunburst(\n",
        "        df,\n",
        "        path=['pillar', 'area', 'service', 'task'],\n",
        "        values='cost',\n",
        "        color='pillar',\n",
        "        color_discrete_map=color_map,\n",
        "        custom_data=['cost']\n",
        "    )\n",
        "\n",
        "    fig.update_layout(\n",
        "        title_text=\"<b>Residential Construction: Hierarchical Cost Explorer</b>\",\n",
        "        title_x=0.5,\n",
        "        font=dict(family=\"Arial, sans-serif\", size=16),\n",
        "        margin=dict(t=80, l=40, r=40, b=40),\n",
        "    )\n",
        "\n",
        "    fig.update_traces(\n",
        "        uniformtext=dict(minsize=10, mode='hide'),\n",
        "        hovertemplate=(\n",
        "            \"<b>%{label}</b><br><br>\"\n",
        "            \"<b>Cost:</b> $%{customdata[0]:,.0f}<br>\"\n",
        "            \"<b>Contribution:</b> %{percentParent:.2%}\"\n",
        "            \"<extra></extra>\"\n",
        "        ),\n",
        "        insidetextorientation='radial',\n",
        "        textfont_size=12,\n",
        "        marker_line=dict(color='#ffffff', width=3)\n",
        "    )\n",
        "    return fig\n",
        "\n",
        "print(\"✅ Project functions defined.\")\n",
        "\n",
        "# Step 4: Execute the Workflow\n",
        "print(\"\\n🚀 Step 3 of 4: Executing data generation and visualization...\")\n",
        "\n",
        "# Generate data\n",
        "data_df = generate_construction_data()\n",
        "\n",
        "# Create the figure\n",
        "final_fig = create_sunburst_figure(data_df)\n",
        "\n",
        "# Display the chart for final review in the notebook\n",
        "final_fig.show()\n",
        "print(\"✅ Visualization complete. Please review the chart above.\")\n",
        "\n",
        "# Step 5: Generate and Print Content for Labelbox Submission\n",
        "print(\"\\n🚀 Step 4 of 4: Preparing content for Labelbox submission...\")\n",
        "\n",
        "# Get the HTML content\n",
        "html_content = final_fig.to_html(full_html=True, include_plotlyjs='cdn')\n",
        "\n",
        "# Prepare the data generation and visualization scripts' text\n",
        "data_gen_script_content = \"\"\"\n",
        "import pandas as pd\n",
        "\n",
        "# This data structure defines our 4-level hierarchy.\n",
        "data = [\n",
        "    # Pillar 1: Project Design\n",
        "    {'pillar': 'Project Design', 'area': 'Architecture', 'service': 'Blueprint Design', 'task': 'Initial Schematics & 3D Model', 'cost': 65000},\n",
        "    {'pillar': 'Project Design', 'area': 'Engineering', 'service': 'Structural Analysis', 'task': 'Foundation & Frame Calculations', 'cost': 95000},\n",
        "    {'pillar': 'Project Design', 'area': 'Engineering', 'service': 'MEP Engineering', 'task': 'HVAC & Electrical Plans', 'cost': 85000},\n",
        "    # Pillar 2: Management & Logistics\n",
        "    {'pillar': 'Management', 'area': 'Administration', 'service': 'Project Management', 'task': 'On-Site Supervision & Reporting', 'cost': 130000},\n",
        "    {'pillar': 'Management', 'area': 'Administration', 'service': 'Permits & Legal', 'task': 'City & Environmental Approvals', 'cost': 90000},\n",
        "    {'pillar': 'Management', 'area': 'Logistics', 'service': 'Supply Chain', 'task': 'Material Sourcing & Delivery', 'cost': 70000},\n",
        "    # Pillar 3: Construction\n",
        "    {'pillar': 'Construction', 'area': 'Site & Foundation', 'service': 'Excavation & Grading', 'task': 'Earthwork and Site Prep', 'cost': 160000},\n",
        "    {'pillar': 'Construction', 'area': 'Site & Foundation', 'service': 'Concrete Work', 'task': 'Foundation Pouring & Curing', 'cost': 310000},\n",
        "    {'pillar': 'Construction', 'area': 'Superstructure', 'service': 'Framing & Steel', 'task': 'Wood & Steel Frame Erection', 'cost': 480000},\n",
        "    {'pillar': 'Construction', 'area': 'MEP Systems', 'service': 'Electrical', 'task': 'Complete Wiring & Fixtures', 'cost': 240000},\n",
        "    {'pillar': 'Construction', 'area': 'MEP Systems', 'service': 'Plumbing & HVAC', 'task': 'Piping, Drains & Ductwork', 'cost': 260000},\n",
        "    {'pillar': 'Construction', 'area': 'Interior & Exterior', 'service': 'Drywall & Painting', 'task': 'Interior Walls and Ceilings', 'cost': 190000},\n",
        "    {'pillar': 'Construction', 'area': 'Interior & Exterior', 'service': 'Flooring & Tiling', 'task': 'Hardwood and Ceramic Installation', 'cost': 175000},\n",
        "]\n",
        "df = pd.DataFrame(data)\n",
        "\"\"\"\n",
        "\n",
        "viz_script_content = \"\"\"\n",
        "import pandas as pd\n",
        "import plotly.express as px\n",
        "\n",
        "# Note: In a real script, data would be loaded from a file, e.g., df = pd.read_csv('data.csv')\n",
        "# For pasting into Labelbox, we assume 'df' is pre-existing.\n",
        "\n",
        "color_map = {\n",
        "    \"Construction\": \"#5D6D7E\",\n",
        "    \"Management\": \"#5499C7\",\n",
        "    \"Project Design\": \"#48C9B0\",\n",
        "    '(?)': '#F4F6F6'\n",
        "}\n",
        "fig = px.sunburst(\n",
        "    df,\n",
        "    path=['pillar', 'area', 'service', 'task'],\n",
        "    values='cost',\n",
        "    color='pillar',\n",
        "    color_discrete_map=color_map,\n",
        "    custom_data=['cost']\n",
        ")\n",
        "fig.update_layout(\n",
        "    title_text=\"<b>Residential Construction: Hierarchical Cost Explorer</b>\",\n",
        "    title_x=0.5,\n",
        "    font=dict(family=\"Arial, sans-serif\", size=16),\n",
        "    margin=dict(t=80, l=40, r=40, b=40),\n",
        ")\n",
        "fig.update_traces(\n",
        "    uniformtext=dict(minsize=10, mode='hide'),\n",
        "    hovertemplate=(\n",
        "        \"<b>%{label}</b><br><br>\"\n",
        "        \"<b>Cost:</b> $%{customdata[0]:,.0f}<br>\"\n",
        "        \"<b>Contribution:</b> %{percentParent:.2%}\"\n",
        "        \"<extra></extra>\"\n",
        "    ),\n",
        "    insidetextorientation='radial',\n",
        "    textfont_size=12,\n",
        "    marker_line=dict(color='#ffffff', width=3)\n",
        ")\n",
        "# In a real script, you would use fig.show() or fig.write_html()\n",
        "\"\"\"\n",
        "\n",
        "# --- PRINTING THE FINAL CONTENT FOR LABELBOX ---\n",
        "print(\"\\n\" + \"=\"*80)\n",
        "print(\"COPY AND PASTE THE FOLLOWING CONTENT INTO THE LABELBOX FIELDS\")\n",
        "print(\"=\"*80 + \"\\n\")\n",
        "\n",
        "print(\"--- 1. Entire contents of the data generation script (data_gen.py) ---\")\n",
        "print(data_gen_script_content)\n",
        "print(\"\\n\" + \"=\"*80 + \"\\n\")\n",
        "\n",
        "print(\"--- 2. Entire contents of the visualization script (viz.py) ---\")\n",
        "print(viz_script_content)\n",
        "print(\"\\n\" + \"=\"*80 + \"\\n\")\n",
        "\n",
        "print(\"--- 3. Entire contents of the generated HTML file (dashboard.html) ---\")\n",
        "print(html_content)\n",
        "print(\"\\n\" + \"=\"*80)\n",
        "print(\"✅ All content is ready for submission.\")```\n",
        "\n",
        "3.  **Execute o Código Mestre:**\n",
        "    *   Pressione `Shift+Enter`.\n",
        "    *   O script irá executar todas as etapas e, ao final, **imprimirá três blocos de texto**, cada um com um cabeçalho claro.\n",
        "\n",
        "---\n",
        "\n",
        "#### **FASE 5: A Entrega Final no Labelbox**\n",
        "\n",
        "Agora, você simplesmente precisa copiar e colar.\n",
        "\n",
        "1.  **Abra sua tarefa no Labelbox.**\n",
        "2.  **Campo 1: `Paste the entire contents of the data generation script (data_gen.py)`**\n",
        "    *   Volte para a saída do seu Colab.\n",
        "    *   Copie todo o texto que está abaixo do cabeçalho `--- 1. Entire contents... ---`.\n",
        "    *   Cole no campo correspondente do Labelbox.\n",
        "3.  **Campo 2: `Paste the entire contents of the visualization script (viz.py)`**\n",
        "    *   No Colab, copie todo o texto que está abaixo do cabeçalho `--- 2. Entire contents... ---`.\n",
        "    *   Cole no campo correspondente.\n",
        "4.  **Campo 3: `Paste the entire contents of the generated HTML file (dashboard.html)`**\n",
        "    *   No Colab, copie todo o texto que está abaixo do cabeçalho `--- 3. Entire contents... ---`. Este será um texto longo que começa com `<html>`.\n",
        "    *   Cole no campo correspondente.\n",
        "5.  **Preencha os campos restantes:**\n",
        "    *   **Reference Image URL:** Use uma URL de um sunburst profissional.\n",
        "    *   **Prompt:** Cole o prompt em inglês.\n",
        "    *   **Plot Types:** `sunburst`.\n",
        "    *   **Additional Libraries:** `no`.\n",
        "\n",
        "6.  **Submeta o Projeto.**\n",
        "\n",
        "Com este plano, você atende a todos os requisitos explícitos e implícitos da tarefa, entregando um trabalho de alta qualidade e demonstrando total capacidade de seguir instruções complexas e se adaptar a novas diretrizes."
      ],
      "metadata": {
        "colab": {
          "base_uri": "https://localhost:8080/",
          "height": 106
        },
        "id": "--7WKz6FQZo6",
        "outputId": "6981f89f-3ab0-49cc-c380-344f31f68fd5"
      },
      "execution_count": null,
      "outputs": [
        {
          "output_type": "error",
          "ename": "SyntaxError",
          "evalue": "invalid syntax (ipython-input-10-3049617018.py, line 189)",
          "traceback": [
            "\u001b[0;36m  File \u001b[0;32m\"/tmp/ipython-input-10-3049617018.py\"\u001b[0;36m, line \u001b[0;32m189\u001b[0m\n\u001b[0;31m    print(\"✅ All content is ready for submission.\")```\u001b[0m\n\u001b[0m                                                   ^\u001b[0m\n\u001b[0;31mSyntaxError\u001b[0m\u001b[0;31m:\u001b[0m invalid syntax\n"
          ]
        }
      ]
    },
    {
      "cell_type": "markdown",
      "source": [
        "Execute o Código Mestre:\n",
        "Clique na célula.\n",
        "Pressione Shift+Enter ou clique no ícone de \"play\" à esquerda.\n",
        "Aguarde a conclusão. O processo irá instalar as bibliotecas, gerar os dados e, por fim, exibir o gráfico Sunburst interativo diretamente na saída da célula.\n",
        "Inspecione seu Trabalho:\n",
        "Interaja com o gráfico. Clique em \"Construction\". Veja como ele dá zoom. Clique no centro para voltar.\n",
        "Passe o mouse sobre os segmentos. Veja o tooltip detalhado que criamos.\n",
        "Verifique se não há textos cortados e se a aparência é profissional."
      ],
      "metadata": {
        "id": "ZMvUaT4UTbyL"
      }
    },
    {
      "cell_type": "markdown",
      "source": [
        "FASE 5: A ENTREGA FINAL (Publicação e Submissão)\n",
        "O processo é o mesmo da nossa última conversa. Ele é o método correto e profissional.\n",
        "Baixe seu Arquivo Final:\n",
        "No Colab, clique no ícone de pasta na barra lateral esquerda.\n",
        "Você verá o arquivo index.html.\n",
        "Clique nos três pontos ... ao lado de index.html e selecione Fazer o download.\n",
        "Publique no GitHub Pages:\n",
        "Crie um novo repositório público no GitHub (ex: elite-sunburst-viewer).\n",
        "Faça o upload do seu arquivo index.html para este repositório.\n",
        "Vá em Settings -> Pages e ative a publicação a partir do branch main.\n",
        "Aguarde 1-2 minutos e copie o link final do seu site.\n",
        "Preencha e Submeta no Labelbox:\n",
        "Reference Image URL: Use a URL de uma imagem de sunburst profissional (ex: https://i.imgur.com/bX93U15.png).\n",
        "Prompt: Cole o prompt em inglês da FASE 2.\n",
        "Nos 4 campos de URI (data_gen.py, data, viz.py, outputs): Cole o seu link final do GitHub Pages.\n",
        "Plot Types: sunburst.\n",
        "Additional Libraries: no."
      ],
      "metadata": {
        "id": "9usUpeduTow6"
      }
    }
  ]
}